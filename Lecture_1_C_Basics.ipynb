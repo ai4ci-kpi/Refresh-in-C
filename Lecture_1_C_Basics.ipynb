{
  "nbformat": 4,
  "nbformat_minor": 0,
  "metadata": {
    "colab": {
      "provenance": []
    },
    "kernelspec": {
      "name": "python3",
      "display_name": "Python 3"
    }
  },
  "cells": [
    {
      "cell_type": "markdown",
      "metadata": {
        "id": "view-in-github"
      },
      "source": [
        "<a href=\"https://colab.research.google.com/github/ai4ci-kpi/Refresh-in-C/blob/main/Lecture_1_C_Basics.ipynb\" target=\"_parent\"><img src=\"https://colab.research.google.com/assets/colab-badge.svg\" alt=\"Open In Colab\"/></a>"
      ]
    },
    {
      "cell_type": "markdown",
      "source": [
        "\n",
        "\n",
        "<img src=\"https://github.com/ai4ci-kpi/Refresh-in-C/blob/main/img/c-language-logo-simple.png?raw=true\" alt=\"Test Image\" width=\"100\"/>\n",
        "\n"
      ],
      "metadata": {
        "id": "qtO3gQ5H6XA0"
      }
    },
    {
      "cell_type": "markdown",
      "metadata": {
        "id": "PLX0uS29NOhE"
      },
      "source": [
        "# Introduction\n",
        "  This course covers basic concepts of C programming, emphasizing practical problem-solving and system-level programming. By the end of the course, you will:\n",
        "\n",
        "\n",
        "1.   Understand C programming fundamentals, including syntax, control structures, and memory management.\n",
        "1.   Work with file handling and inter-process communication (pipes).\n",
        "1. Manage signals and understand return values in C programs.\n",
        "1. Learn processes and multithreading concepts for concurrent programming.\n",
        "\n",
        "\n",
        "\n",
        "\n",
        "\n",
        "---\n",
        "\n",
        "\n"
      ]
    },
    {
      "cell_type": "markdown",
      "source": [
        "# Cheat Sheet\n",
        "C quick reference cheat sheet that provides basic syntax and methods. Just press on the image to open the file.\n",
        "\n",
        "[<img src=\"https://github.com/ai4ci-kpi/Refresh-in-C/blob/main/img/lec1/C%20Cheat%20Sheet%20&%20Quick%20Reference.png?raw=true\" alt=\"Test Image\" width=\"700\"/>](https://github.com/ai4ci-kpi/Refresh-in-C/blob/main/Cheat%20Sheets/C%20Cheat%20Sheet%20%26%20Quick%20Reference2.pdf)"
      ],
      "metadata": {
        "id": "ZW5lACqiFSQ7"
      }
    },
    {
      "cell_type": "markdown",
      "source": [
        "# Textbooks\n",
        "\n",
        "We recommend those textbooks for a comprehensive introduction to the field. Just press on the image to open the book.\n",
        "\n",
        "[<img src=\"https://github.com/ai4ci-kpi/Refresh-in-C/blob/main/img/lec1/C_Book_2nd.png?raw=true\" alt=\"Test Image\" width=\"400\"/>](https://github.com/ai4ci-kpi/Refresh-in-C/blob/main/Books/C_Book_2nd.pdf)\n",
        "[<img src=\"https://github.com/ai4ci-kpi/Refresh-in-C/blob/main/img/lec1/linux-system-programming.png?raw=true\" alt=\"Test Image\" width=\"450\"/>](https://github.com/ai4ci-kpi/Refresh-in-C/blob/main/Books/linux-system-programming.pdf)\n",
        "\n",
        "**The C Programming Language** is the first book on C written by **Brian Kernighan** and **Dennis Ritchie** and published in 1978, quickly became the bible of C programmers. In the absence of an official standard for C, this book — known as K&R or the “White Book” to aficionados — served as a de facto standard.\n",
        "\n",
        "The development of a U.S. standard for C began in 1983 under the auspices of\n",
        "the **American National Standards Institute (ANSI)**. After many revisions, the standard was completed in 1988 and formally approved in December 1989 as ANSI\n",
        "standard X3.159-1989. In 1990, it was approved by the International Organization\n",
        "for Standardization (ISO) as international standard ISO/IEC 9899:1990.\n",
        "\n",
        "While ANSI was the initial U.S. standard, ISO now leads the standardization process, which is why later standards are referred to by ISO numbers: C89 (ANSI), C90 (ISO), C99, C11, C17/C18, C23."
      ],
      "metadata": {
        "id": "G8DvpRGLA5NM"
      }
    },
    {
      "cell_type": "markdown",
      "source": [
        "# Edit and compile\n",
        "We will use Linux-based environment called **Google Colab** as a code editor for writing C programs and compiling them with `gcc` compiler via the shell. Note, Colab is not designed for direct execution of C programs. Colab primarily supports Python, but we can run shell commands using `!`, and then execute it.\n",
        "\n",
        "In Google Colab, `!` and `%%` serve different purposes, particularly for interacting with the underlying system or running specific types of code.\n",
        "\n",
        "The `!` allows you to execute shell commands (Linux/Unix commands, such as `ls`, `pwd`, `gcc`, etc.)\n",
        "\n",
        "The `%%` is used to apply a \"cell magic\" command to an entire code cell. This affects the whole cell, not just a single line. It is typically used for interacting with external languages, like running shell scripts, or for applying special configurations to the whole cell.\n",
        "\n",
        "Compilation is the process of translating high-level source code written in programming languages like C into machine code, which is the low-level code that a computer's CPU can execute directly. Machine code consists of binary instructions specific to a computer's architecture.\n",
        "\n",
        "GCC (GNU Compiler Collection) is a widely used C compiler. To check the version of GCC, run the following command in the terminal:"
      ],
      "metadata": {
        "id": "IaBa0T_mrYz0"
      }
    },
    {
      "cell_type": "code",
      "source": [
        "!gcc --version"
      ],
      "metadata": {
        "colab": {
          "base_uri": "https://localhost:8080/"
        },
        "id": "Xd6l3PfK1hPg",
        "outputId": "a22c5901-b241-4c65-d526-4180d06bf368"
      },
      "execution_count": null,
      "outputs": [
        {
          "output_type": "stream",
          "name": "stdout",
          "text": [
            "gcc (Ubuntu 11.4.0-1ubuntu1~22.04) 11.4.0\n",
            "Copyright (C) 2021 Free Software Foundation, Inc.\n",
            "This is free software; see the source for copying conditions.  There is NO\n",
            "warranty; not even for MERCHANTABILITY or FITNESS FOR A PARTICULAR PURPOSE.\n",
            "\n"
          ]
        }
      ]
    },
    {
      "cell_type": "markdown",
      "source": [
        "To use `gcc`, open a terminal, use the command line to navigate to the source ﬁle's location and then run:\n",
        "\n",
        "```\n",
        "gcc Hello.c -o Hello\n",
        "```\n",
        "\n"
      ],
      "metadata": {
        "id": "HFJ4KBJs2bGV"
      }
    },
    {
      "cell_type": "markdown",
      "source": [
        "If no errors are found in the the source code (`Hello.c`), the compiler will create a binary ﬁle, the name of which is given by the argument to the `-o` command line option (`hello`). This is the ﬁnal executable ﬁle."
      ],
      "metadata": {
        "id": "1vvdsC4G24oI"
      }
    },
    {
      "cell_type": "markdown",
      "source": [
        "We can also use the warning options `-Wall` `-Wextra` `-Werror`, that help to identify problems that can cause the program to fail or produce unexpected results:\n",
        "\n",
        "```\n",
        "gcc -Wall -Wextra -Werror -o Hello Hello.c\n",
        "```\n",
        "\n",
        "Once compiled, the binary ﬁle may then be executed by typing `./Hello` in the terminal.\n"
      ],
      "metadata": {
        "id": "mf7NRmDG3WUv"
      }
    },
    {
      "cell_type": "markdown",
      "source": [
        "\n",
        "#Hello, С\n",
        "\n",
        "C is a powerful general-purpose programming language.\n",
        "\n",
        "1.   **C is a low-level language.** To serve as a suitable language for systems programming, C provides access to machine-level concepts (bytes and addresses, for example) that other programming languages try to hide. C also provides operations that correspond closely to a computer’s built-in instructions, so that programs can be fast. Since application programs rely on it for input/output, storage management, and numerous other services, an operating system can’t afford to be slow.\n",
        "1.  **C is a small language.** C provides a more limited set of features than many languages. (The reference manual in the second edition of K&R covers the entire language in 49 pages.) To keep the number of features small, C relies heavily on a “library” of standard functions. (A “function” is similar to what other programming languages might call a “procedure,” “subroutine,” or “method.”)\n",
        "1. **C is a permissive language.** C assumes that you know what you’re doing, so it allows you a wider degree of latitude than many languages. Moreover, C doesn’t mandate the detailed error-checking found in other languages.\n",
        "\n",
        "\n",
        "\n",
        "The C programming language emerged from the development of the UNIX operating system at Bell Laboratories by **Ken Thompson**, **Dennis Ritchie**, and others. Thompson initially created UNIX operating system for the DEC PDP-7,  an early minicomputer with just 8K of memory, using assembly language — an impressive achievement considering the technological constraints of 1969.\n",
        "\n",
        "Like other operating systems of the time, UNIX was written in assembly language. Programs written in assembly language are usually painful to debug and\n",
        "hard to enhance; UNIX was no exception. Thompson decided that a higher-level language was needed for the further development of UNIX, so he designed a small language named B, inspired by BCPL — a systems language derived from Algol 60.  \n",
        "\n",
        "Ritchie soon joined the UNIX project and began programming in B. In 1970, Bell Labs acquired a more advanced minicomputer a PDP-11 for the UNIX project. Once B was up and running on the PDP-11, Thompson rewrote a portion of UNIX in B. By 1971, it became apparent that B was not well-suited to the PDP-11, so Ritchie began to develop an extended version of B. He called his language NB (“New B”) at first, and then, as it began to diverge more from B, he changed the name to C. By 1973, UNIX was rewritten entirely in C, marking a pivotal shift. This transition granted UNIX unprecedented portability: by developing C compilers for other systems, the team could easily port UNIX across machines, cementing C’s role as a foundational tool for operating systems and software development.\n",
        "\n",
        "Dennis Ritchie's design of C combined low-level memory access with high-level language features, making it highly efficient and versatile for system and application development.\n",
        "\n",
        "C has been used to write everything from operating systems (including major parts of Windows,  Linux and many others) to complex programs like the Python interpreter, Git, Oracle database, and more.\n",
        "\n",
        "Additional uses of C are as follows:\n",
        "1. C is used to write driver programs for devices like tablets, printers etc.\n",
        "1. C language is used to program embedded systems where programs need to run\n",
        "faster in limited memory (UAV, Microwave, Cameras etc.)\n",
        "1. C is used to develop games, an area where latency is very important, i.e., the computer must react quickly to user input.\n",
        "\n",
        "\n",
        "\n",
        "The versatility of C is by design. C strikes a balance between low-level machine operations and human-readable syntax. Its close relationship with hardware allows for efficient performance and fine-grained control, making it a popular choice for systems programming, embedded development, and performance-critical applications.\n",
        "\n",
        "### C-Based Languages\n",
        "C has had a huge influence on modern-day programming languages, many of\n",
        "which borrow heavily from it. Some of the most notable C-based languages include:\n",
        "\n",
        "\n",
        "1.   **C++** includes all the features of C, but xtends C with object-oriented programming (classes, inheritance) and generic programming (templates).\n",
        "1.   **Java** is based on C++ and therefore inherits many C features. It Adopts C’s syntax but adds automatic memory management (garbage collection) and platform independence (JVM).\n",
        "1. **C#** derived from C++ and Java combining C-style syntax with features from Java and .NET framework.\n",
        "1. **Go (Golang)** simplifies C’s syntax, emphasizes concurrency and scalability.\n",
        "1. **Rust** retains low-level control like C but enforces memory safety.\n",
        "\n",
        "\n",
        "\n"
      ],
      "metadata": {
        "id": "iftv1dLgA3a4"
      }
    },
    {
      "cell_type": "markdown",
      "source": [
        "#Your first C program\n",
        "\n",
        "A program written in C is a collection of commands or statements.\n",
        "\n",
        "Below is a simple code that prints the message **Hello, World!**."
      ],
      "metadata": {
        "id": "qrmgKbvnL-ig"
      }
    },
    {
      "cell_type": "code",
      "metadata": {
        "id": "fJJczUFkPD2E",
        "outputId": "e50aacf4-43f0-4b89-d540-682e2966a841",
        "colab": {
          "base_uri": "https://localhost:8080/"
        }
      },
      "source": [
        "%%writefile Hello.c\n",
        "\n",
        "#include <stdio.h>\n",
        "\n",
        "int main() {\n",
        "  printf(\"Hello, World!\\n\");\n",
        "  return 0;\n",
        "}"
      ],
      "execution_count": null,
      "outputs": [
        {
          "output_type": "stream",
          "name": "stdout",
          "text": [
            "Overwriting Hello.c\n"
          ]
        }
      ]
    },
    {
      "cell_type": "code",
      "metadata": {
        "id": "9Mh9Z5PQhS70",
        "outputId": "cccec49e-9276-4899-b0b0-057cbc477d39",
        "colab": {
          "base_uri": "https://localhost:8080/"
        }
      },
      "source": [
        "%%script bash\n",
        "gcc Hello.c -o Hello\n",
        "./Hello"
      ],
      "execution_count": null,
      "outputs": [
        {
          "output_type": "stream",
          "name": "stdout",
          "text": [
            "Hello, World!\n"
          ]
        }
      ]
    },
    {
      "cell_type": "markdown",
      "metadata": {
        "id": "6iWhsy1GjH_-"
      },
      "source": [
        "Let's break down the code `Hello.c` to understand each line:"
      ]
    },
    {
      "cell_type": "code",
      "metadata": {
        "id": "T72bmVlXhlRQ"
      },
      "source": [
        "#include <stdio.h>"
      ],
      "execution_count": null,
      "outputs": []
    },
    {
      "cell_type": "markdown",
      "metadata": {
        "id": "2jMXVi9uQfpy"
      },
      "source": [
        "C offers various headers, each of which contains information needed for programs to work properly. This particular program requires the `<stdio.h>` header.\n",
        "\n",
        "The `#` sign at the beginning of a line is directed to the compiler's preprocessor. In this case, `#include` tells the preprocessor to include the `<stdio.h>` header in our program. So, `#include` is used for adding standard or user-defined header files to the program.\n",
        "\n",
        "The `<stdio.h>` header defines the standard function that output data. In order to use the `printf` function, we need to first include the header file `<stdio.h>`.\n",
        "\n",
        "The entry point of every C program is the `main()` function, irrespective of what the program does.\n",
        "\n",
        "**Curly brackets** `{ }` indicate the beginning and end of a function, which can also be called the **function's body**. The information inside the brackets indicates what the function does when executed.\n",
        "\n",
        "The C compiler ignores **empty** lines. In general, empty lines serve to improve readability and code structure.\n",
        "\n",
        "> Indentations such as spaces, tabs, and newlines are also ignored, although they are used to enhance the visual appeal of the program.\n",
        "\n",
        "The `\\n` escape sequence outputs a newline character. Escape sequences always begin with a backslash `\\`.\n",
        "\n",
        "In C, the semicolon is used to terminate a statement. Each statement must end with a semicolon. It indicates the end of one logical expression.\n",
        "\n",
        "The last statement in the program is  `return 0;`. It terminates the `main()` function and causes it to return `0` to the calling process. The number 0 generally means that our program has been successfully executed. A non-zero value (usually `1`) signals a problem with the code."
      ]
    }
  ]
}