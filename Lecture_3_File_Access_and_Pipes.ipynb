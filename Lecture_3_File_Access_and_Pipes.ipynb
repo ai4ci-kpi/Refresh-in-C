{
  "nbformat": 4,
  "nbformat_minor": 0,
  "metadata": {
    "colab": {
      "provenance": []
    },
    "kernelspec": {
      "name": "python3",
      "display_name": "Python 3"
    }
  },
  "cells": [
    {
      "cell_type": "markdown",
      "metadata": {
        "id": "view-in-github"
      },
      "source": [
        "<a href=\"https://colab.research.google.com/github/ai4ci-kpi/Refresh-in-C/blob/main/Lecture_3_File_Access_and_Pipes.ipynb\" target=\"_parent\"><img src=\"https://colab.research.google.com/assets/colab-badge.svg\" alt=\"Open In Colab\"/></a>"
      ]
    },
    {
      "cell_type": "markdown",
      "source": [
        "\n",
        "\n",
        "<img src=\"https://github.com/ai4ci-kpi/Refresh-in-C/blob/main/img/c-language-logo-simple.png?raw=true\" alt=\"Test Image\" width=\"100\"/>\n",
        "\n"
      ],
      "metadata": {
        "id": "qtO3gQ5H6XA0"
      }
    },
    {
      "cell_type": "markdown",
      "metadata": {
        "id": "PLX0uS29NOhE"
      },
      "source": [
        "# Introduction\n",
        "Today, we’ll dive into the core principles of file access and pipes in C:\n",
        "\n",
        "1.   Understanding how to open, read, write, and close files using the standard I/O functions.\n",
        "1.   Using `fseek`, `ftell`, and `rewind` to efficiently navigate within files.\n",
        "1. How inter-process communication (IPC) with pipes enable data exchange between processes.\n",
        "1. Creating unidirectional communication channels between parent and child processes.\n",
        "1. Running external commands and capturing their output.\n",
        "1. Checking for failures in `fopen`, `fread`, `pipe`, and other system calls using return values and `perror()` or `strerror()`.\n",
        "\n",
        "Understanding file access and pipes in C is crucial because these concepts form the foundation of how C programs interact with data storage and communicate between processes.\n",
        "\n",
        "\n",
        "---\n",
        "\n",
        "\n"
      ]
    },
    {
      "cell_type": "markdown",
      "source": [
        "# Accessing and Writing to a File\n",
        "\n",
        "File access in C is managed using the `standard I/O library`, which provides functions to interact with files. An external file can be opened, read from, written to, and closed in a C program. For these operations, C includes the `FILE` type for defining a file stream. The file stream keeps track of where reading and writing last occurred.\n",
        "\n",
        "The `stdio.h` library includes file handling functions: `FILE` typedef for defining a file pointer.\n",
        "\n",
        "`FILE` is a `structure` that stores information about a file stream, including:\n",
        "\n",
        "    \n",
        "\n",
        "* A file descriptor\n",
        "* Current position in the file\n",
        "* Error and EOF indicators\n",
        "* Buffering information\n",
        "\n",
        "`fopen(filename, mode)` returns a `FILE` pointer to file `filename` which is opened using `mode`. If a file cannot be opened, `NULL` is returned.\n",
        "\n",
        "`NULL` is a **macro** in C that represents a null pointer. It is commonly used to indicate an invalid or uninitialized pointer, especially in file handling, memory allocation, and linked data structures.\n",
        "\n",
        "The `fopen(filename, mode)` function is used to open files in different modes. Below is a table summarizing the available modes and their behavior:\n",
        "\n",
        "| Mode  | Description                          | File Existence Requirement | File Pointer Position | Behavior if File Exists       | Behavior if File Doesn’t Exist |\n",
        "|-------|--------------------------------------|----------------------------|-----------------------|-------------------------------|---------------------------------|\n",
        "| `\"r\"`  | Open for **reading**                 | File must exist            | Beginning of file     | Opens file for reading        | Returns `NULL`                 |\n",
        "| `\"w\"`  | Open for **writing**                 | File may or may not exist  | Beginning of file     | Truncates file to zero length | Creates a new file             |\n",
        "| `\"a\"`  | Open for **appending**               | File may or may not exist  | End of file           | Appends data to the end       | Creates a new file             |\n",
        "| `\"r+\"` | Open for **reading and writing**     | File must exist            | Beginning of file     | Opens file for read/write     | Returns `NULL`                 |\n",
        "| `\"w+\"` | Open for **reading and writing**     | File may or may not exist  | Beginning of file     | Truncates file to zero length | Creates a new file             |\n",
        "| `\"a+\"` | Open for **reading and appending**   | File may or may not exist  | End of file           | Appends data to the end       | Creates a new file             |\n",
        "| `\"rb\"` | Open for **reading in binary mode**  | File must exist            | Beginning of file     | Opens file for reading        | Returns `NULL`                 |\n",
        "| `\"wb\"` | Open for **writing in binary mode**  | File may or may not exist  | Beginning of file     | Truncates file to zero length | Creates a new file             |\n",
        "| `\"ab\"` | Open for **appending in binary mode**| File may or may not exist  | End of file           | Appends data to the end       | Creates a new file             |\n",
        "| `\"r+b\"`| Open for **reading and writing in binary mode** | File must exist | Beginning of file | Opens file for read/write | Returns `NULL` |\n",
        "| `\"w+b\"`| Open for **reading and writing in binary mode** | File may or may not exist | Beginning of file | Truncates file to zero length | Creates a new file |\n",
        "| `\"a+b\"`| Open for **reading and appending in binary mode** | File may or may not exist | End of file | Appends data to the end | Creates a new file |\n",
        "\n",
        "\n",
        "`fclose(fptr)` closes file opened with `FILE *fptr`, returning `0` if close was successful. `EOF` (end of file) is returned if there is an error in closing.\n",
        "\n",
        "\n",
        "   \n",
        "    \n",
        "    \n",
        "\n"
      ],
      "metadata": {
        "id": "ZW5lACqiFSQ7"
      }
    },
    {
      "cell_type": "markdown",
      "source": [
        "## Writing to a File\n",
        "\n",
        "| **Function** | **Description** | **Parameters** | **Return Value** | **Key Behavior** |\n",
        "|--------------|-----------------|----------------|------------------|------------------|\n",
        "| `fputc()`    | Writes a single character to a file. | `int char, FILE *stream` | The character written or `EOF` on error | - Writes one character to the file.<br>- Useful for low-level character output. |\n",
        "| `fputs()`    | Writes a string to a file (without a newline). | `const char *str, FILE *stream` | Non-negative value on success, `EOF` on error | - Writes a string to the file.<br>- Does not automatically add a newline. |\n",
        "| `fprintf()`  | Writes formatted output to a file. | `FILE *stream, const char *format, ...` | Number of characters written or negative value on error | - Writes formatted data to the file.<br>- Similar to `printf()` but for files. |\n"
      ],
      "metadata": {
        "id": "4aeEXLjj7G0O"
      }
    },
    {
      "cell_type": "markdown",
      "source": [
        "**Example 1.** The following program opens a file for writing, writes two strings and then closes the file:"
      ],
      "metadata": {
        "id": "AcqM3_zQ67rd"
      }
    },
    {
      "cell_type": "code",
      "source": [
        "%%writefile file-open.c\n",
        "\n",
        "#include <stdio.h>\n",
        "\n",
        "int main() {\n",
        "  FILE *fptr;\n",
        "\n",
        "  // Open the file in write mode\n",
        "  fptr = fopen(\"myfile.txt\", \"w\");\n",
        "  if (fptr == NULL) {\n",
        "    printf(\"Error opening file.\");\n",
        "    return -1;  // Exit the program if the file cannot be opened\n",
        "  }\n",
        "\n",
        "  // Write to the file\n",
        "  fprintf(fptr, \"Hello, this is written to the file!\\n\");\n",
        "  fputs(\"This is another line written using fputs.\\n\", fptr);\n",
        "\n",
        "  // Close the file\n",
        "  fclose(fptr);\n",
        "\n",
        "  printf(\"Data written to the file successfully.\\n\");\n",
        "  return 0;\n",
        "}"
      ],
      "metadata": {
        "colab": {
          "base_uri": "https://localhost:8080/"
        },
        "id": "rOxYkwKT_LAr",
        "outputId": "32aede53-6e1c-4d17-d40b-a6b43cf46797"
      },
      "execution_count": 7,
      "outputs": [
        {
          "output_type": "stream",
          "name": "stdout",
          "text": [
            "Overwriting file-open.c\n"
          ]
        }
      ]
    },
    {
      "cell_type": "code",
      "source": [
        "%%script bash\n",
        "gcc file-open.c -o file-open\n",
        "./file-open"
      ],
      "metadata": {
        "colab": {
          "base_uri": "https://localhost:8080/"
        },
        "id": "kJN0izHw_t52",
        "outputId": "22d4544b-dc48-41d3-b472-d960a84a7028"
      },
      "execution_count": 8,
      "outputs": [
        {
          "output_type": "stream",
          "name": "stdout",
          "text": [
            "Data written to the file successfully.\n"
          ]
        }
      ]
    },
    {
      "cell_type": "markdown",
      "source": [
        "In this program, if there is an error when opening the file, a `-1` error code is returned to the system. Error handling will be explained later.\n",
        "\n",
        "Closing a file when you are done using it is a good programming practice."
      ],
      "metadata": {
        "id": "X8wyZIIMgIEU"
      }
    },
    {
      "cell_type": "markdown",
      "source": [
        "**Example 2.** Writing numerical data to a file.\n",
        "\n",
        "This example writes an array of floating-point numbers to a file. This could represent, for example, a time series of experimental measurements."
      ],
      "metadata": {
        "id": "AaoBTadcxwh3"
      }
    },
    {
      "cell_type": "code",
      "source": [
        "%%writefile file-open2.c\n",
        "\n",
        "#include <stdio.h>\n",
        "\n",
        "int main() {\n",
        "    // Sample data: time series of measurements\n",
        "    double data[] = {1.2, 2.3, 3.4, 4.5, 5.6};\n",
        "    int num_points = sizeof(data) / sizeof(data[0]);\n",
        "\n",
        "    // Open a file for writing\n",
        "    FILE *file = fopen(\"data.txt\", \"w\");\n",
        "    if (file == NULL) {\n",
        "        printf(\"Error opening file!\\n\");\n",
        "        return -1;\n",
        "    }\n",
        "\n",
        "    // Write data to the file\n",
        "    for (int i = 0; i < num_points; i++) {\n",
        "        fprintf(file, \"%.6f\\n\", data[i]);  // Write each value with 6 decimal places\n",
        "    }\n",
        "\n",
        "    // Close the file\n",
        "    fclose(file);\n",
        "\n",
        "    printf(\"Data written to file successfully.\\n\");\n",
        "    return 0;\n",
        "}"
      ],
      "metadata": {
        "colab": {
          "base_uri": "https://localhost:8080/"
        },
        "id": "iM8KuPKByZvO",
        "outputId": "f6cce2f2-c515-425b-829f-94e5f30d4191"
      },
      "execution_count": 11,
      "outputs": [
        {
          "output_type": "stream",
          "name": "stdout",
          "text": [
            "Writing file-open2.c\n"
          ]
        }
      ]
    },
    {
      "cell_type": "code",
      "source": [
        "%%script bash\n",
        "gcc file-open2.c -o file-open2\n",
        "./file-open2"
      ],
      "metadata": {
        "colab": {
          "base_uri": "https://localhost:8080/"
        },
        "id": "X2E-7wnFy79t",
        "outputId": "2974f541-5072-46fd-d164-7d7b59172b0d"
      },
      "execution_count": 12,
      "outputs": [
        {
          "output_type": "stream",
          "name": "stdout",
          "text": [
            "Data written to file successfully.\n"
          ]
        }
      ]
    },
    {
      "cell_type": "markdown",
      "source": [
        "# Reading from a File\n",
        "\n",
        "The `stdio.h` library also includes functions for reading from an open file. A file can be read one character at a time or an entire string can be read into a character buffer, which is typically a char array used for temporary storage.\n",
        "\n",
        "To read from a file you can use functions like `fscanf()`, `fgets()`, or `fread()`. Below is an example program that reads the contents of a file (`myfile.txt`) and prints it to the console."
      ],
      "metadata": {
        "id": "ClcU3iGqsL8M"
      }
    },
    {
      "cell_type": "markdown",
      "source": [
        "| **Function** | **Description** | **Usage Example** | **Key Differences** |\n",
        "|--------------|-----------------|-------------------|---------------------|\n",
        "| `fscanf()`   | Reads formatted input from a file. | `fscanf(file, \"%d %s\", &num, str);` | - Reads formatted data (e.g., integers, strings).<br>- Stops at whitespace or specified delimiter. |\n",
        "| `fgets()`    | Reads a string from a file until a newline or EOF is encountered. | `fgets(buffer, sizeof(buffer), file);` | - Reads a line of text.<br>- Includes the newline character in the buffer.<br>- Stops at newline or EOF. |\n",
        "| `fread()`    | Reads raw data from a file into a buffer. | `fread(buffer, sizeof(char), size, file);` | - Reads binary or raw data.<br>- Does not interpret or format the data.<br>- Reads a specified number of bytes. |\n"
      ],
      "metadata": {
        "id": "Lm0_84Kp48Qu"
      }
    },
    {
      "cell_type": "markdown",
      "source": [
        "**Example 1.**  Reading text files line by line."
      ],
      "metadata": {
        "id": "aPbJUFtrzXU9"
      }
    },
    {
      "cell_type": "code",
      "source": [
        "%%writefile file-read.c\n",
        "\n",
        "#include <stdio.h>\n",
        "\n",
        "int main() {\n",
        "    FILE *fptr;\n",
        "    char buffer[100]; // Buffer to store the data read from the file\n",
        "\n",
        "    // Open the file in read mode\n",
        "    fptr = fopen(\"myfile.txt\", \"r\");\n",
        "    if (fptr == NULL) {\n",
        "        printf(\"Error opening file.\");\n",
        "        return -1; // Exit the program if the file cannot be opened\n",
        "    }\n",
        "\n",
        "    // Read and print the file contents line by line\n",
        "    while (fgets(buffer, sizeof(buffer), fptr) != NULL) {\n",
        "        printf(\"%s\", buffer); // Print the line to the console\n",
        "    }\n",
        "\n",
        "    // Close the file\n",
        "    fclose(fptr);\n",
        "\n",
        "    return 0;\n",
        "}"
      ],
      "metadata": {
        "colab": {
          "base_uri": "https://localhost:8080/"
        },
        "id": "IjzPhe0ygfbC",
        "outputId": "c64dee89-ca85-40fe-ea87-6f906257364b"
      },
      "execution_count": 9,
      "outputs": [
        {
          "output_type": "stream",
          "name": "stdout",
          "text": [
            "Writing file-read.c\n"
          ]
        }
      ]
    },
    {
      "cell_type": "markdown",
      "source": [
        "`fopen(\"myfile.txt\", \"r\")`opens the file `myfile.txt` in **read mode**.\n",
        "\n",
        "`fgets(buffer, sizeof(buffer), fptr)` reads a line from the file into the `buffer`:\n",
        "\n",
        "* The `sizeof(buffer)` ensures that no more than `100` characters are read at a time (prevents buffer overflow).\n",
        "*Returns `NULL` when the end of the file is reached."
      ],
      "metadata": {
        "id": "3SQzhzCl0LGv"
      }
    },
    {
      "cell_type": "code",
      "source": [
        "%%script bash\n",
        "gcc file-read.c -o file-read\n",
        "./file-read"
      ],
      "metadata": {
        "colab": {
          "base_uri": "https://localhost:8080/"
        },
        "id": "0aL6Im9-l9TK",
        "outputId": "bc5d6527-85d9-4f4f-9f92-852abbe574ed"
      },
      "execution_count": 10,
      "outputs": [
        {
          "output_type": "stream",
          "name": "stdout",
          "text": [
            "Hello, this is written to the file!\n",
            "This is another line written using fputs.\n"
          ]
        }
      ]
    },
    {
      "cell_type": "markdown",
      "source": [
        "**Example 2.**  Reading numerical data from a file\n",
        "\n",
        "This example reads the data from the file stores it in an array."
      ],
      "metadata": {
        "id": "96xSZGtc2rtj"
      }
    },
    {
      "cell_type": "code",
      "source": [
        "%%writefile file-read2.c\n",
        "\n",
        "#include <stdio.h>\n",
        "#include <stdlib.h>\n",
        "\n",
        "int main() {\n",
        "    // Open the file for reading\n",
        "    FILE *file = fopen(\"data.txt\", \"r\");\n",
        "    if (file == NULL) {\n",
        "        printf(\"Error opening file!\\n\");\n",
        "        return 1;\n",
        "    }\n",
        "\n",
        "    // Determine the number of data points\n",
        "    int num_points = 0;\n",
        "    double value;\n",
        "    while (fscanf(file, \"%lf\", &value) == 1) {\n",
        "        num_points++;\n",
        "    }\n",
        "\n",
        "    // Allocate memory for the data array\n",
        "    double *data = (double *)malloc(num_points * sizeof(double));\n",
        "    if (data == NULL) {\n",
        "        printf(\"Memory allocation failed!\\n\");\n",
        "        fclose(file);\n",
        "        return 1;\n",
        "    }\n",
        "\n",
        "    // Rewind the file to read the data again\n",
        "    rewind(file);\n",
        "\n",
        "    // Read the data into the array\n",
        "    for (int i = 0; i < num_points; i++) {\n",
        "        fscanf(file, \"%lf\", &data[i]);\n",
        "    }\n",
        "\n",
        "    // Close the file\n",
        "    fclose(file);\n",
        "\n",
        "    // Print the data to verify\n",
        "    printf(\"Data read from file:\\n\");\n",
        "    for (int i = 0; i < num_points; i++) {\n",
        "        printf(\"%.6f\\n\", data[i]);\n",
        "    }\n",
        "\n",
        "    // Free allocated memory\n",
        "    free(data);\n",
        "\n",
        "    return 0;\n",
        "}"
      ],
      "metadata": {
        "colab": {
          "base_uri": "https://localhost:8080/"
        },
        "id": "JALPBk-G2qmq",
        "outputId": "2490d0dc-a7a2-435f-e03d-acbbe70d142b"
      },
      "execution_count": 17,
      "outputs": [
        {
          "output_type": "stream",
          "name": "stdout",
          "text": [
            "Overwriting file-read2.c\n"
          ]
        }
      ]
    },
    {
      "cell_type": "code",
      "source": [
        "%%script bash\n",
        "gcc file-read2.c -o file-read2\n",
        "./file-read2"
      ],
      "metadata": {
        "colab": {
          "base_uri": "https://localhost:8080/"
        },
        "id": "ipcwkIGWmCBx",
        "outputId": "41585f95-5a31-4f69-a4cd-ab3638258085"
      },
      "execution_count": 18,
      "outputs": [
        {
          "output_type": "stream",
          "name": "stdout",
          "text": [
            "Data read from file:\n",
            "1.200000\n",
            "2.300000\n",
            "3.400000\n",
            "4.500000\n",
            "5.600000\n"
          ]
        }
      ]
    },
    {
      "cell_type": "code",
      "source": [],
      "metadata": {
        "id": "yRNUMXhi3UKh"
      },
      "execution_count": null,
      "outputs": []
    }
  ]
}