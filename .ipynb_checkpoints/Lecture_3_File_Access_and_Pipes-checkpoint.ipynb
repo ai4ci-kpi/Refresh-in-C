{
 "cells": [
  {
   "cell_type": "markdown",
   "metadata": {
    "id": "view-in-github",
    "slideshow": {
     "slide_type": "slide"
    }
   },
   "source": [
    "<a href=\"https://colab.research.google.com/github/ai4ci-kpi/Refresh-in-C/blob/main/Lecture_3_File_Access_and_Pipes.ipynb\" target=\"_parent\"><img src=\"https://colab.research.google.com/assets/colab-badge.svg\" alt=\"Open In Colab\"/></a>"
   ]
  },
  {
   "cell_type": "markdown",
   "metadata": {
    "id": "qtO3gQ5H6XA0"
   },
   "source": [
    "\n",
    "\n",
    "<img src=\"https://github.com/ai4ci-kpi/Refresh-in-C/blob/main/img/c-language-logo-simple.png?raw=true\" alt=\"Test Image\" width=\"100\"/>\n",
    "\n"
   ]
  },
  {
   "cell_type": "markdown",
   "metadata": {
    "id": "PLX0uS29NOhE"
   },
   "source": [
    "# Introduction\n",
    "Today, we’ll dive into the core principles of file access and pipes in C:\n",
    "\n",
    "1.   Understanding how to open, read, write, and close files using the standard I/O functions.\n",
    "1. How inter-process communication (IPC) with pipes enable data exchange between processes.\n",
    "1. Creating unidirectional communication channels between parent and child processes.\n",
    "\n",
    "\n",
    "Understanding file access and pipes in C is crucial because these concepts form the foundation of how C programs interact with data storage and communicate between processes.\n",
    "\n",
    "\n",
    "---\n",
    "\n",
    "\n"
   ]
  },
  {
   "cell_type": "markdown",
   "metadata": {
    "id": "Qw_a9IjYKoEv",
    "slideshow": {
     "slide_type": "slide"
    }
   },
   "source": [
    "# Files\n",
    "\n",
    "The `file` is the most basic and fundamental abstraction in Linux. Linux follows the **everything-is-a-file** philosophy (although not as strictly as some other systems, such as Plan 9<sup><a href=\"#footnote1\">1</a></sup>). Consequently, much interaction occurs via reading of and writing to files, even when the object in question is not what you would consider a normal file.\n",
    "\n",
    "In order to be accessed, a file must first be opened. Files can be opened for reading, writing, or both. An open file is referenced via a unique descriptor, a mapping from the metadata associated with the open file back to the specific file itself. Inside the Linux kernel, this descriptor is handled by an integer (of the C type `int`) called the **file descriptor**, abbreviated **fd**. File descriptors are shared with user space, and are used directly by user programs to access files. A large part of Linux system programming consists of opening, manipulating, closing, and otherwise using file descriptors.\n",
    "\n",
    "\n",
    "<a id=\"footnote1\">1</a> Plan9, an operating system born of Bell Labs, is often called the successor to Unix. It features several innovative\n",
    "ideas, and is an adherent of the everything-is-a-file philosophy."
   ]
  },
  {
   "cell_type": "markdown",
   "metadata": {},
   "source": [
    "## Regular files\n",
    "\n",
    "What most of us call “files” are what Linux labels regular files. A regular file contains bytes of data, organized into a linear array called a byte stream.\n",
    "\n",
    "Any of the bytes within a file may be read from or written to. These operations start at a specific byte, which is one’s conceptual “location” within the file. This location is called the **file position** or **file offset**. The file position is an essential piece of the metadata that the kernel associates with each open file. When a file is first opened, the file position is zero. Usually, as bytes in the file are read from or written to, byte-by-byte, the file position increases in kind. The file position may also be set manually to a given value, even a value beyond the end of the file.\n",
    "\n"
   ]
  },
  {
   "cell_type": "markdown",
   "metadata": {},
   "source": [
    "The size of a file is measured in bytes and is called its **length**. The length, in other words, is simply the number of bytes in the linear array that make up the file. A file’s length can be changed via an operation called truncation. A file can be truncated to a new size smaller than its original size, which results in bytes being removed from the end of the file. Confusingly, given the operation’s name, a file can also be “truncated” to a new size larger than its original size. In that case, the new bytes (which are added to the end of the file) are filled with zeros. A file may be empty (that is, have a length of zero), and thus contain no valid bytes. The maximum file length, as with the maximum file position, is bounded only by limits on the sizes of the C types that the Linux kernel uses to manage files."
   ]
  },
  {
   "cell_type": "markdown",
   "metadata": {},
   "source": [
    "A single file can be opened more than once, by a different or even the same process. Each open instance of a file is given a unique file descriptor. Conversely, processes can share their file descriptors, allowing a single descriptor to be used by more than one process. The kernel does not impose any restrictions on concurrent file access. Multiple processes are free to read from and write to the same file at the same time. The results of such concurrent accesses rely on the ordering of the individual operations, and are\n",
    "generally unpredictable. User-space programs typically must coordinate amongst themselves to ensure that concurrent file accesses are properly synchronized.\n",
    "\n"
   ]
  },
  {
   "cell_type": "markdown",
   "metadata": {},
   "source": []
  },
  {
   "cell_type": "markdown",
   "metadata": {
    "id": "ZW5lACqiFSQ7"
   },
   "source": [
    "# Accessing and Writing to a File\n",
    "\n",
    "File access in C is managed using the `standard I/O library`, which provides functions to interact with files. An external file can be opened, read from, written to, and closed in a C program. For these operations, C includes the `FILE` type for defining a file stream. The file stream keeps track of where reading and writing last occurred.\n",
    "\n",
    "The `stdio.h` library includes file handling functions: `FILE` typedef for defining a file pointer.\n",
    "\n",
    "`FILE` is a `structure` that stores information about a file stream, including:\n",
    "\n",
    "    \n",
    "\n",
    "* A file descriptor\n",
    "* Current position in the file\n",
    "* Error and EOF indicators\n",
    "* Buffering information\n",
    "\n",
    "`fopen(filename, mode)` returns a `FILE` pointer to file `filename` which is opened using `mode`. If a file cannot be opened, `NULL` is returned.\n",
    "\n",
    "`NULL` is a **macro** in C that represents a null pointer. It is commonly used to indicate an invalid or uninitialized pointer, especially in file handling, memory allocation, and linked data structures.\n",
    "\n",
    "The `fopen(filename, mode)` function is used to open files in different modes. Below is a table summarizing the available modes and their behavior:\n",
    "\n",
    "| Mode  | Description                          | File Existence Requirement | File Pointer Position | Behavior if File Exists       | Behavior if File Doesn’t Exist |\n",
    "|-------|--------------------------------------|----------------------------|-----------------------|-------------------------------|---------------------------------|\n",
    "| `\"r\"`  | Open for **reading**                 | File must exist            | Beginning of file     | Opens file for reading        | Returns `NULL`                 |\n",
    "| `\"w\"`  | Open for **writing**                 | File may or may not exist  | Beginning of file     | Truncates file to zero length | Creates a new file             |\n",
    "| `\"a\"`  | Open for **appending**               | File may or may not exist  | End of file           | Appends data to the end       | Creates a new file             |\n",
    "| `\"r+\"` | Open for **reading and writing**     | File must exist            | Beginning of file     | Opens file for read/write     | Returns `NULL`                 |\n",
    "| `\"w+\"` | Open for **reading and writing**     | File may or may not exist  | Beginning of file     | Truncates file to zero length | Creates a new file             |\n",
    "| `\"a+\"` | Open for **reading and appending**   | File may or may not exist  | End of file           | Appends data to the end       | Creates a new file             |\n",
    "| `\"rb\"` | Open for **reading in binary mode**  | File must exist            | Beginning of file     | Opens file for reading        | Returns `NULL`                 |\n",
    "| `\"wb\"` | Open for **writing in binary mode**  | File may or may not exist  | Beginning of file     | Truncates file to zero length | Creates a new file             |\n",
    "| `\"ab\"` | Open for **appending in binary mode**| File may or may not exist  | End of file           | Appends data to the end       | Creates a new file             |\n",
    "| `\"r+b\"`| Open for **reading and writing in binary mode** | File must exist | Beginning of file | Opens file for read/write | Returns `NULL` |\n",
    "| `\"w+b\"`| Open for **reading and writing in binary mode** | File may or may not exist | Beginning of file | Truncates file to zero length | Creates a new file |\n",
    "| `\"a+b\"`| Open for **reading and appending in binary mode** | File may or may not exist | End of file | Appends data to the end | Creates a new file |\n",
    "\n",
    "\n",
    "`fclose(fptr)` closes file opened with `FILE *fptr`, returning `0` if close was successful. `EOF` (end of file) is returned if there is an error in closing.\n",
    "\n",
    "\n",
    "   \n",
    "    \n",
    "    \n",
    "\n"
   ]
  },
  {
   "cell_type": "markdown",
   "metadata": {
    "id": "4aeEXLjj7G0O"
   },
   "source": [
    "## Writing to a File\n",
    "\n",
    "| **Function** | **Description** | **Parameters** | **Return Value** | **Key Behavior** |\n",
    "|--------------|-----------------|----------------|------------------|------------------|\n",
    "| `fputc()`    | Writes a single character to a file. | `int char, FILE *stream` | The character written or `EOF` on error | - Writes one character to the file.<br>- Useful for low-level character output. |\n",
    "| `fputs()`    | Writes a string to a file (without a newline). | `const char *str, FILE *stream` | Non-negative value on success, `EOF` on error | - Writes a string to the file.<br>- Does not automatically add a newline. |\n",
    "| `fprintf()`  | Writes formatted output to a file. | `FILE *stream, const char *format, ...` | Number of characters written or negative value on error | - Writes formatted data to the file.<br>- Similar to `printf()` but for files. |\n"
   ]
  },
  {
   "cell_type": "markdown",
   "metadata": {
    "id": "AcqM3_zQ67rd"
   },
   "source": [
    "**Example 1.** The following program opens a file for writing, writes two strings and then closes the file:"
   ]
  },
  {
   "cell_type": "code",
   "execution_count": 1,
   "metadata": {
    "colab": {
     "base_uri": "https://localhost:8080/"
    },
    "id": "rOxYkwKT_LAr",
    "outputId": "0fe9bbd3-44a2-4bc1-ad65-0ed036971632"
   },
   "outputs": [
    {
     "name": "stdout",
     "output_type": "stream",
     "text": [
      "Overwriting file-open.c\n"
     ]
    }
   ],
   "source": [
    "%%writefile file-open.c\n",
    "\n",
    "#include <stdio.h>\n",
    "\n",
    "int main() {\n",
    "  FILE *fptr;\n",
    "\n",
    "  // Open the file in write mode\n",
    "  fptr = fopen(\"myfile.txt\", \"w\");\n",
    "  if (fptr == NULL) {\n",
    "    printf(\"Error opening file.\");\n",
    "    return -1;  // Exit the program if the file cannot be opened\n",
    "  }\n",
    "\n",
    "  // Write to the file\n",
    "  fprintf(fptr, \"Hello, this is written to the file!\\n\");\n",
    "  fputs(\"This is another line written using fputs.\\n\", fptr);\n",
    "\n",
    "  // Close the file\n",
    "  fclose(fptr);\n",
    "\n",
    "  printf(\"Data written to the file successfully.\\n\");\n",
    "  return 0;\n",
    "}"
   ]
  },
  {
   "cell_type": "code",
   "execution_count": 2,
   "metadata": {
    "colab": {
     "base_uri": "https://localhost:8080/"
    },
    "id": "kJN0izHw_t52",
    "outputId": "9999637a-6156-44e5-897a-4fd53a5a6a34"
   },
   "outputs": [
    {
     "name": "stdout",
     "output_type": "stream",
     "text": [
      "Data written to the file successfully.\n"
     ]
    }
   ],
   "source": [
    "%%script bash\n",
    "gcc file-open.c -o file-open\n",
    "./file-open"
   ]
  },
  {
   "cell_type": "markdown",
   "metadata": {
    "id": "X8wyZIIMgIEU"
   },
   "source": [
    "In this program, if there is an error when opening the file, a `-1` error code is returned to the system. Error handling will be explained later.\n",
    "\n",
    "Closing a file when you are done using it is a good programming practice."
   ]
  },
  {
   "cell_type": "markdown",
   "metadata": {
    "id": "AaoBTadcxwh3"
   },
   "source": [
    "**Example 2.** Writing numerical data to a file.\n",
    "\n",
    "This example writes an array of floating-point numbers to a file. This could represent, for example, a time series of experimental measurements."
   ]
  },
  {
   "cell_type": "code",
   "execution_count": 3,
   "metadata": {
    "colab": {
     "base_uri": "https://localhost:8080/"
    },
    "id": "iM8KuPKByZvO",
    "outputId": "51d986d8-230a-4b1f-ff64-1cfc72cabec0"
   },
   "outputs": [
    {
     "name": "stdout",
     "output_type": "stream",
     "text": [
      "Overwriting file-open2.c\n"
     ]
    }
   ],
   "source": [
    "%%writefile file-open2.c\n",
    "\n",
    "#include <stdio.h>\n",
    "\n",
    "int main() {\n",
    "    // Sample data: time series of measurements\n",
    "    double data[] = {1.2, 2.3, 3.4, 4.5, 5.6};\n",
    "    int num_points = sizeof(data) / sizeof(data[0]);\n",
    "\n",
    "    // Open a file for writing\n",
    "    FILE *file = fopen(\"data.txt\", \"w\");\n",
    "    if (file == NULL) {\n",
    "        printf(\"Error opening file!\\n\");\n",
    "        return -1;\n",
    "    }\n",
    "\n",
    "    // Write data to the file\n",
    "    for (int i = 0; i < num_points; i++) {\n",
    "        fprintf(file, \"%.6f\\n\", data[i]);  // Write each value with 6 decimal places\n",
    "    }\n",
    "\n",
    "    // Close the file\n",
    "    fclose(file);\n",
    "\n",
    "    printf(\"Data written to file successfully.\\n\");\n",
    "    return 0;\n",
    "}"
   ]
  },
  {
   "cell_type": "code",
   "execution_count": 4,
   "metadata": {
    "colab": {
     "base_uri": "https://localhost:8080/"
    },
    "id": "X2E-7wnFy79t",
    "outputId": "81352391-d63e-4447-e84d-6bced462733f"
   },
   "outputs": [
    {
     "name": "stdout",
     "output_type": "stream",
     "text": [
      "Data written to file successfully.\n"
     ]
    }
   ],
   "source": [
    "%%script bash\n",
    "gcc file-open2.c -o file-open2\n",
    "./file-open2"
   ]
  },
  {
   "cell_type": "markdown",
   "metadata": {
    "id": "ClcU3iGqsL8M"
   },
   "source": [
    "# Reading from a File\n",
    "\n",
    "The `stdio.h` library also includes functions for reading from an open file. A file can be read one character at a time or an entire string can be read into a character buffer, which is typically a char array used for temporary storage.\n",
    "\n",
    "To read from a file you can use functions like `fscanf()`, `fgets()`, or `fread()`. Below is an example program that reads the contents of a file (`myfile.txt`) and prints it to the console."
   ]
  },
  {
   "cell_type": "markdown",
   "metadata": {
    "id": "Lm0_84Kp48Qu"
   },
   "source": [
    "| **Function** | **Description** | **Usage Example** | **Key Differences** |\n",
    "|--------------|-----------------|-------------------|---------------------|\n",
    "| `fscanf()`   | Reads formatted input from a file. | `fscanf(file, \"%d %s\", &num, str);` | - Reads formatted data (e.g., integers, strings).<br>- Stops at whitespace or specified delimiter. |\n",
    "| `fgets()`    | Reads a string from a file until a newline or EOF is encountered. | `fgets(buffer, sizeof(buffer), file);` | - Reads a line of text.<br>- Includes the newline character in the buffer.<br>- Stops at newline or EOF. |\n",
    "| `fread()`    | Reads raw data from a file into a buffer. | `fread(buffer, sizeof(char), size, file);` | - Reads binary or raw data.<br>- Does not interpret or format the data.<br>- Reads a specified number of bytes. |\n"
   ]
  },
  {
   "cell_type": "markdown",
   "metadata": {
    "id": "aPbJUFtrzXU9"
   },
   "source": [
    "**Example 1.**  Reading text files line by line."
   ]
  },
  {
   "cell_type": "code",
   "execution_count": 5,
   "metadata": {
    "colab": {
     "base_uri": "https://localhost:8080/"
    },
    "id": "IjzPhe0ygfbC",
    "outputId": "edf06459-69ea-4928-9d0b-3de7b63fbad4"
   },
   "outputs": [
    {
     "name": "stdout",
     "output_type": "stream",
     "text": [
      "Overwriting file-read.c\n"
     ]
    }
   ],
   "source": [
    "%%writefile file-read.c\n",
    "\n",
    "#include <stdio.h>\n",
    "\n",
    "int main() {\n",
    "    FILE *fptr;\n",
    "    char buffer[100]; // Buffer to store the data read from the file\n",
    "\n",
    "    // Open the file in read mode\n",
    "    fptr = fopen(\"myfile.txt\", \"r\");\n",
    "    if (fptr == NULL) {\n",
    "        printf(\"Error opening file.\");\n",
    "        return -1; // Exit the program if the file cannot be opened\n",
    "    }\n",
    "\n",
    "    // Read and print the file contents line by line\n",
    "    while (fgets(buffer, sizeof(buffer), fptr) != NULL) {\n",
    "        printf(\"%s\", buffer); // Print the line to the console\n",
    "    }\n",
    "\n",
    "    // Close the file\n",
    "    fclose(fptr);\n",
    "\n",
    "    return 0;\n",
    "}"
   ]
  },
  {
   "cell_type": "markdown",
   "metadata": {
    "id": "3SQzhzCl0LGv"
   },
   "source": [
    "`fopen(\"myfile.txt\", \"r\")`opens the file `myfile.txt` in **read mode**.\n",
    "\n",
    "`fgets(buffer, sizeof(buffer), fptr)` reads a line from the file into the `buffer`:\n",
    "\n",
    "* The `sizeof(buffer)` ensures that no more than `100` characters are read at a time (prevents buffer overflow).\n",
    "*Returns `NULL` when the end of the file is reached."
   ]
  },
  {
   "cell_type": "code",
   "execution_count": 6,
   "metadata": {
    "colab": {
     "base_uri": "https://localhost:8080/"
    },
    "id": "0aL6Im9-l9TK",
    "outputId": "5c6b9f93-f8c2-483a-e90c-0a8c0b8c1b44"
   },
   "outputs": [
    {
     "name": "stdout",
     "output_type": "stream",
     "text": [
      "Hello, this is written to the file!\n",
      "This is another line written using fputs.\n"
     ]
    }
   ],
   "source": [
    "%%script bash\n",
    "gcc file-read.c -o file-read\n",
    "./file-read"
   ]
  },
  {
   "cell_type": "markdown",
   "metadata": {
    "id": "96xSZGtc2rtj"
   },
   "source": [
    "**Example 2.**  Reading numerical data from a file\n",
    "\n",
    "This example reads the data from the file stores it in an array."
   ]
  },
  {
   "cell_type": "code",
   "execution_count": 7,
   "metadata": {
    "colab": {
     "base_uri": "https://localhost:8080/"
    },
    "id": "JALPBk-G2qmq",
    "outputId": "dd92dc2e-0067-4f44-944b-8218e4e91669"
   },
   "outputs": [
    {
     "name": "stdout",
     "output_type": "stream",
     "text": [
      "Overwriting file-read2.c\n"
     ]
    }
   ],
   "source": [
    "%%writefile file-read2.c\n",
    "\n",
    "#include <stdio.h>\n",
    "#include <stdlib.h>\n",
    "\n",
    "int main() {\n",
    "    // Open the file for reading\n",
    "    FILE *file = fopen(\"data.txt\", \"r\");\n",
    "    if (file == NULL) {\n",
    "        printf(\"Error opening file!\\n\");\n",
    "        return 1;\n",
    "    }\n",
    "\n",
    "    // Determine the number of data points\n",
    "    int num_points = 0;\n",
    "    double value;\n",
    "    while (fscanf(file, \"%lf\", &value) == 1) {\n",
    "        num_points++;\n",
    "    }\n",
    "\n",
    "    // Allocate memory for the data array\n",
    "    double *data = (double *)malloc(num_points * sizeof(double));\n",
    "    if (data == NULL) {\n",
    "        printf(\"Memory allocation failed!\\n\");\n",
    "        fclose(file);\n",
    "        return 1;\n",
    "    }\n",
    "\n",
    "    // Rewind the file to read the data again\n",
    "    rewind(file);\n",
    "\n",
    "    // Read the data into the array\n",
    "    for (int i = 0; i < num_points; i++) {\n",
    "        fscanf(file, \"%lf\", &data[i]);\n",
    "    }\n",
    "\n",
    "    // Close the file\n",
    "    fclose(file);\n",
    "\n",
    "    // Print the data to verify\n",
    "    printf(\"Data read from file:\\n\");\n",
    "    for (int i = 0; i < num_points; i++) {\n",
    "        printf(\"%.6f\\n\", data[i]);\n",
    "    }\n",
    "\n",
    "    // Free allocated memory\n",
    "    free(data);\n",
    "\n",
    "    return 0;\n",
    "}"
   ]
  },
  {
   "cell_type": "code",
   "execution_count": 8,
   "metadata": {
    "colab": {
     "base_uri": "https://localhost:8080/"
    },
    "id": "ipcwkIGWmCBx",
    "outputId": "0ab5c2cb-4074-416d-ce9b-507e5af133d4"
   },
   "outputs": [
    {
     "name": "stdout",
     "output_type": "stream",
     "text": [
      "Data read from file:\n",
      "1.200000\n",
      "2.300000\n",
      "3.400000\n",
      "4.500000\n",
      "5.600000\n"
     ]
    }
   ],
   "source": [
    "%%script bash\n",
    "gcc file-read2.c -o file-read2\n",
    "./file-read2"
   ]
  },
  {
   "cell_type": "markdown",
   "metadata": {
    "id": "p4Da7Ph5OUdJ"
   },
   "source": [
    "Navigating within files efficiently is a common task in C programming, especially when dealing with large files. The functions `fseek`, `ftell`, and `rewind` are part of the C Standard Library and are used to manipulate the file position indicator within a file stream."
   ]
  },
  {
   "cell_type": "markdown",
   "metadata": {
    "id": "2Z-M5tVUcBvj"
   },
   "source": [
    "# Special files\n",
    "\n",
    "**Special files** are kernel objects that are represented as files. Over the years, Unix systems have supported a handful of different special files. Linux supports four: block device files, character device files, named pipes, and Unix domain sockets. Special files are a way to let certain abstractions fit into the filesystem, continuing the everything-is-a-file paradigm. Linux provides a system call to create a special file.\n",
    "\n",
    "**Named pipes** (often called *FIFOs*, short for “first in, first out”) are an *interprocess communication* (IPC) mechanism that provides a communication channel over a file descriptor, accessed via a special file. Regular pipes or unnamed pipes (often simply called \"pipes\") are the method used to “pipe” the output of one program into the input of another; they are created in memory via a system call and do not exist on any filesystem. Named pipes act like regular pipes but are accessed via a file, called a *FIFO special file*. Unrelated processes can access this file and communicate."
   ]
  },
  {
   "cell_type": "markdown",
   "metadata": {
    "id": "E9tLGeT5ECQd"
   },
   "source": [
    "# Pipes\n",
    "Pipes are used to allow one or more processes to have information \"flow\" between them. The most common example of this is with the shell [[source](https://www.cs.uml.edu/~fredm/courses/91.308-spr05/files/pipes.html)]."
   ]
  },
  {
   "cell_type": "code",
   "execution_count": 9,
   "metadata": {
    "colab": {
     "base_uri": "https://localhost:8080/"
    },
    "id": "887auaICEirp",
    "outputId": "b6a53330-5c12-4558-cdd9-44360108a886"
   },
   "outputs": [
    {
     "name": "stdout",
     "output_type": "stream",
     "text": [
      "13\n"
     ]
    }
   ],
   "source": [
    "! ls | wc -l"
   ]
  },
  {
   "cell_type": "markdown",
   "metadata": {
    "id": "E4yiULvOFcxg"
   },
   "source": [
    "The command `ls | wc -l` is a classic example of using pipes in a Unix-like shell (e.g., Bash).\n",
    "\n",
    "As we’ve seen the std-out from the left side (`ls`) is connected to the std-in on the right side (`wc -l`). As far the each program is concerned, it is reading or writing as it normally does. Both processes are running concurrently.\n",
    "\n",
    "The `ls` command writes its output (the list of files and directories) to the **write end** of the pipe. The `wc -l` command reads from the **read end** of the pipe and counts the number of lines. The final result is the number of files and directories in the current directory.\n",
    "\n",
    "There are 2 types of pipes:\n",
    "* unnamed pipes\n",
    "* named pipes\n",
    "\n",
    "| Feature                | Unnamed Pipes                          | Named Pipes (FIFOs)                     |\n",
    "|------------------------|----------------------------------------|-----------------------------------------|\n",
    "| **Creation**           | Created using `pipe()`                | Created using `mkfifo()` or `mknod()`   |\n",
    "| **Persistence**        | Temporary; exist only during process lifetime | Persistent; exist until explicitly deleted |\n",
    "| **Filesystem Entry**   | No filesystem entry                   | Appears as a file in the filesystem     |\n",
    "| **Communication**      | Unidirectional                        | Unidirectional (typically)              |\n",
    "| **Process Relationship**| Used between related processes (e.g., parent and child) | Used between unrelated processes        |\n",
    "| **Blocking Behavior**  | Blocks if the pipe is empty (read) or full (write) | Blocks until both reader and writer are present |\n",
    "| **Bidirectional Communication** | Requires two pipes             | Can be used bidirectionally (with care) |\n",
    "| **Example Use Case**   | Communication between parent and child processes | Communication between unrelated processes or across different sessions |\n",
    "| **File Descriptors**   | Created with `pipe(fd)` where `fd[0]` is read end and `fd[1]` is write end | Accessed using `open()` with a pathname |\n",
    "| **Deletion**           | Automatically destroyed when processes terminate | Must be explicitly deleted using `unlink()` |\n",
    "| **Example Code**       | ```int fd[2]; pipe(fd); ```         | ```mkfifo(\"/tmp/myfifo\", 0666); ```   |\n",
    "\n",
    "\n",
    "The examples we seen at the shell command line are unnamed. They are created, used and destroyed within the life a set of processes. Each end of the pipe has it’s own file descriptor. One end is for reading and one end is for writing. When you are done with a pipe, it is closed like any other file."
   ]
  },
  {
   "cell_type": "markdown",
   "metadata": {
    "id": "5sbO-a-NyEgO"
   },
   "source": [
    "\n",
    "\n",
    "\n",
    "**Unnamed pipes** (often simply called \"pipes\") are used for communication between related processes, typically between a parent process and its child process.\n",
    "\n",
    "A *pipe* is a system call that creates an **unidirectional** communication link between two file descriptors. The pipe system call is called with a pointer to an array of two integers. Upon return, the first element of the array contains the file descriptor that corresponds to the output of the pipe (stuff to be read). The second element of the array contains the file descriptor that corresponds to the input of the pipe (the place where you write stuff). Whatever bytes are sent into the input of the pipe can be read from the other end of the pipe.\n"
   ]
  },
  {
   "cell_type": "markdown",
   "metadata": {
    "id": "AzdiYPm02IAu"
   },
   "source": [
    "## Example\n",
    "\n",
    "This is a small program demonstrates the use of **unnamed pipes** for *inter-process communication* (IPC) between a **parent process** and its **child process**."
   ]
  },
  {
   "cell_type": "code",
   "execution_count": 10,
   "metadata": {
    "colab": {
     "base_uri": "https://localhost:8080/"
    },
    "id": "yRNUMXhi3UKh",
    "outputId": "76920eeb-b48a-461c-b1c6-30c1325d416e"
   },
   "outputs": [
    {
     "name": "stdout",
     "output_type": "stream",
     "text": [
      "Overwriting piles.c\n"
     ]
    }
   ],
   "source": [
    "%%writefile piles.c\n",
    "\n",
    "#include <stdio.h>\n",
    "#include <unistd.h>\n",
    "\n",
    "int main() {\n",
    "    int fd[2];\n",
    "    pipe(fd);\n",
    "\n",
    "    if (fork() == 0) {  // Child process\n",
    "        close(fd[0]);  // Close read end\n",
    "        write(fd[1], \"Hello, C\", 9);\n",
    "        close(fd[1]);\n",
    "    } else {  // Parent process\n",
    "        close(fd[1]);  // Close write end\n",
    "        char buffer[9];\n",
    "        read(fd[0], buffer, 9);\n",
    "        printf(\"Received: %s\\n\", buffer);\n",
    "        close(fd[0]);\n",
    "    }\n",
    "\n",
    "    return 0;\n",
    "}"
   ]
  },
  {
   "cell_type": "code",
   "execution_count": 11,
   "metadata": {
    "colab": {
     "base_uri": "https://localhost:8080/"
    },
    "id": "FoCEfHrC2qqj",
    "outputId": "dab80bf3-0181-4f55-de73-5874456af083"
   },
   "outputs": [
    {
     "name": "stdout",
     "output_type": "stream",
     "text": [
      "Received: Hello, C\n"
     ]
    }
   ],
   "source": [
    "%%script bash\n",
    "gcc piles.c -o piles\n",
    "./piles"
   ]
  },
  {
   "cell_type": "markdown",
   "metadata": {
    "id": "8-RxnRDV38gY"
   },
   "source": [
    "`<unistd.h>` provides functions like `pipe()`, `fork()`, `read()`, and `write()`.\n",
    "\n",
    "`pipe(fd)` creates an unnamed pipe.\n",
    "\n",
    "`fd` is an array of two integers:\n",
    "\n",
    "\n",
    "*   `fd[0]` is a file descriptor for the **read end** of the pipe.\n",
    "*   `fd[1]` is a file descriptor for the **write end** of the pipe.\n",
    "\n",
    "`fork()` creates a child process. The return value of `fork()` is:\n",
    "\n",
    "  *  `0` in the child process.\n",
    "\n",
    "  *  A positive value (child's PID) in the parent process.\n",
    "\n",
    "\n",
    "\n",
    "```\n",
    "close(fd[0]);  // Close read end\n",
    "write(fd[1], \"Hello, C\", 9);\n",
    "close(fd[1]);\n",
    "```\n",
    "The child process closes the **read end** of the pipe (`fd[0]`) because it only needs to write. Writes the string \"Hello, C\" (9 bytes, including the null terminator) to the write end of the pipe (`fd[1]`) and closes the write end of the pipe after writing.\n",
    "\n",
    "\n"
   ]
  },
  {
   "cell_type": "markdown",
   "metadata": {
    "id": "jaZFDrshI8UB"
   },
   "source": [
    "Pipes are a fundamental mechanism for inter-process communication (IPC) in Unix-like operating systems (e.g., Linux, macOS). They are important because they enable processes to communicate and share data efficiently, which is essential for building complex, modular, and scalable systems."
   ]
  }
 ],
 "metadata": {
  "celltoolbar": "Slideshow",
  "colab": {
   "provenance": []
  },
  "kernelspec": {
   "display_name": "Python 3 (ipykernel)",
   "language": "python",
   "name": "python3"
  },
  "language_info": {
   "codemirror_mode": {
    "name": "ipython",
    "version": 3
   },
   "file_extension": ".py",
   "mimetype": "text/x-python",
   "name": "python",
   "nbconvert_exporter": "python",
   "pygments_lexer": "ipython3",
   "version": "3.10.12"
  }
 },
 "nbformat": 4,
 "nbformat_minor": 1
}
