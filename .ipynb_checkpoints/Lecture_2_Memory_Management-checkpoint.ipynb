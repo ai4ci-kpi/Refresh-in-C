{
 "cells": [
  {
   "cell_type": "markdown",
   "metadata": {
    "id": "view-in-github",
    "slideshow": {
     "slide_type": "slide"
    }
   },
   "source": [
    "<a href=\"https://colab.research.google.com/github/ai4ci-kpi/Refresh-in-C/blob/main/Lecture_2_Memory_Management.ipynb\" target=\"_parent\"><img src=\"https://colab.research.google.com/assets/colab-badge.svg\" alt=\"Open In Colab\"/></a>"
   ]
  },
  {
   "cell_type": "markdown",
   "metadata": {
    "id": "qtO3gQ5H6XA0"
   },
   "source": [
    "\n",
    "\n",
    "<img src=\"https://github.com/ai4ci-kpi/Refresh-in-C/blob/main/img/c-language-logo-simple.png?raw=true\" alt=\"Test Image\" width=\"100\"/>\n",
    "\n"
   ]
  },
  {
   "cell_type": "markdown",
   "metadata": {
    "id": "PLX0uS29NOhE"
   },
   "source": [
    "# Introduction\n",
    "Today, we’ll dive into the core principles of memory in C:\n",
    "\n",
    "1.   The **stack** and **heap**: automatic (stack-managed) vs manual (heap-managed) memory, and when to use each.\n",
    "1.   **Dynamic memory allocation**: using `malloc`, `calloc` and `realloc` to allocate memory at runtime.\n",
    "1. Properly freeing memory with `free` to avoid memory leaks.\n",
    "1. Addressing problems like memory leaks, dangling pointers, and fragmentation.\n",
    "\n",
    "Mastering these concepts is essential for writing efficient, reliable, and bug-free C programs.\n",
    "\n",
    "\n",
    "---\n",
    "\n",
    "\n"
   ]
  },
  {
   "cell_type": "markdown",
   "metadata": {
    "id": "ZW5lACqiFSQ7",
    "slideshow": {
     "slide_type": "slide"
    }
   },
   "source": [
    "# Working with memory\n",
    "\n",
    "Understanding memory is an important aspect of C programming. When you declare a variable using a basic data type, C automatically allocates space for the variable in an area of memory called the `stack`.\n",
    "\n",
    "<center>\n",
    "<img src=\"https://github.com/ai4ci-kpi/Refresh-in-C/blob/main/img/lec2/stack.gif?raw=true\" alt=\"Test Image\" width=\"100\"/>\n",
    "<figcaption>\n",
    "    <strong>Figure 1: Demonstration of stack behavior.</strong>  Nothing moves physically when variables are pushed onto or popped off of a stack in memory. Only the values stored in the memory managed by the stack are changed, as illustrated here. It's possible and common to intermix push and pop operations.\n",
    "    <br>Source: <a href=\"https://icarus.cs.weber.edu/~dab/cs1410/textbook/4.Pointers/memory.html\" target=\"_blank\">weber.edu</a>\n",
    "  </figcaption>\n",
    "</center>\n"
   ]
  },
  {
   "cell_type": "markdown",
   "metadata": {
    "slideshow": {
     "slide_type": "slide"
    }
   },
   "source": [
    "An `int` variable, for example, is typically allocated 4 bytes of memory when declared. We can confirm this by using the `sizeof` operator:"
   ]
  },
  {
   "cell_type": "code",
   "execution_count": 1,
   "metadata": {
    "colab": {
     "base_uri": "https://localhost:8080/"
    },
    "id": "rOxYkwKT_LAr",
    "outputId": "3e743514-c318-4dbe-c8ce-cefd67345308"
   },
   "outputs": [
    {
     "name": "stdout",
     "output_type": "stream",
     "text": [
      "Writing int-size.c\n"
     ]
    }
   ],
   "source": [
    "%%writefile int-size.c\n",
    "\n",
    "#include <stdio.h>\n",
    "\n",
    "int main() {\n",
    "  int x;\n",
    "  printf(\"%ld\", sizeof(x));\n",
    "  return 0;\n",
    "}"
   ]
  },
  {
   "cell_type": "code",
   "execution_count": 2,
   "metadata": {
    "colab": {
     "base_uri": "https://localhost:8080/"
    },
    "id": "kJN0izHw_t52",
    "outputId": "d0937946-1d02-4ab7-fe1d-b0d51135181d"
   },
   "outputs": [
    {
     "name": "stdout",
     "output_type": "stream",
     "text": [
      "4"
     ]
    }
   ],
   "source": [
    "%%script bash\n",
    "gcc int-size.c -o int-size\n",
    "./int-size"
   ]
  },
  {
   "cell_type": "markdown",
   "metadata": {
    "id": "QUgoZavTAc94",
    "slideshow": {
     "slide_type": "slide"
    }
   },
   "source": [
    "As another example, an array with a specified size is allocated **contiguous blocks** of memory with each block the size for one element:"
   ]
  },
  {
   "cell_type": "code",
   "execution_count": 3,
   "metadata": {
    "colab": {
     "base_uri": "https://localhost:8080/"
    },
    "id": "DHNYPbSRAntB",
    "outputId": "456bd582-17d7-4d4c-a979-9fae9c5880cb"
   },
   "outputs": [
    {
     "name": "stdout",
     "output_type": "stream",
     "text": [
      "Writing array-size.c\n"
     ]
    }
   ],
   "source": [
    "%%writefile array-size.c\n",
    "\n",
    "#include <stdio.h>\n",
    "\n",
    "int main() {\n",
    "  int arr[10];\n",
    "  printf(\"%ld\", sizeof(arr));\n",
    "  return 0;\n",
    "}"
   ]
  },
  {
   "cell_type": "code",
   "execution_count": 4,
   "metadata": {
    "colab": {
     "base_uri": "https://localhost:8080/"
    },
    "id": "qJkAUbieBE3M",
    "outputId": "2431fc18-3206-462c-95d0-554afac8bfdf"
   },
   "outputs": [
    {
     "name": "stdout",
     "output_type": "stream",
     "text": [
      "40"
     ]
    }
   ],
   "source": [
    "%%script bash\n",
    "gcc array-size.c -o array-size\n",
    "./array-size"
   ]
  },
  {
   "cell_type": "markdown",
   "metadata": {},
   "source": [
    "So long as your program explicitly declares a basic data type or an array size, memory is automatically managed. However, you have probably already been wishing to implement a program where the array size is undecided until runtime."
   ]
  },
  {
   "cell_type": "markdown",
   "metadata": {
    "id": "HTA4rA_8BYxQ",
    "slideshow": {
     "slide_type": "slide"
    }
   },
   "source": [
    "**Dynamic memory allocation** is the process of allocating and freeing memory as needed. Now you can prompt at runtime for the number of array elements and then create an array with that many elements. Dynamic memory is managed with pointers that point to newly allocated blocks of memory in an area called the **heap**.\n",
    "\n",
    "<center>\n",
    "<img src=\"https://github.com/ai4ci-kpi/Refresh-in-C/blob/main/img/lec2/heap-animation.gif?raw=true\" alt=\"Test Image\" width=\"100\"/>\n",
    "<figcaption>\n",
    "    <strong>Figure 2: Demonstration of heap behavior. </strong> The heap allocates memory by finding and returning the first memory block large enough to satisfy the request. Memory is returned or freed in any convenient order. When the program deallocates or releases two adjacent memory blocks, the heap merges them to form a single block. Doing this allows the heap to meet future demands for large memory blocks. The cross-hatched block illustrates a request for a large block (twice the size of the colored blocks) of memory.\n",
    "    <br>Source: <a href=\"https://icarus.cs.weber.edu/~dab/cs1410/textbook/4.Pointers/memory.html\" target=\"_blank\">weber.edu</a>\n",
    "  </figcaption>\n",
    "</center>\n"
   ]
  },
  {
   "cell_type": "markdown",
   "metadata": {
    "slideshow": {
     "slide_type": "slide"
    }
   },
   "source": [
    "In addition to automatic memory management using the stack and dynamic memory allocation using the heap, there is **statically managed data** in **main memory** for variables that persist for the lifetime of the program."
   ]
  },
  {
   "cell_type": "markdown",
   "metadata": {
    "slideshow": {
     "slide_type": "slide"
    }
   },
   "source": [
    "Key differences between `stack` and `heap` allocations:\n",
    "\n",
    "| Parameter             | STACK                                     | HEAP                                      |\n",
    "|----------------------|--------------------------------|--------------------------------|\n",
    "| **Basic**            | Memory is allocated in a contiguous block. | Memory is allocated in any random order. |\n",
    "| **Allocation and De-allocation** | Automatic by compiler instructions. | Manual by the programmer. |\n",
    "| **Cost**             | Less | More |\n",
    "| **Implementation**   | Easy | Hard |\n",
    "| **Access time**      | Faster | Slower |\n",
    "| **Main Issue**       | Shortage of memory | Memory fragmentation |\n",
    "| **Locality of reference** | Excellent | Adequate |\n",
    "| **Safety**          | Thread safe, data stored can only be accessed by the owner | Not Thread safe, data stored visible to all threads |\n",
    "| **Flexibility**      | Fixed-size | Resizing is possible |\n",
    "| **Data type structure** | Linear | Hierarchical |\n",
    "| **Preferred**       | Static memory allocation is preferred in an array. | Heap memory allocation is preferred in the linked list. |\n",
    "| **Size**            | Smaller than heap memory. | Larger than stack memory. |\n"
   ]
  },
  {
   "cell_type": "markdown",
   "metadata": {
    "id": "rXGZUfs3D0aZ",
    "slideshow": {
     "slide_type": "slide"
    }
   },
   "source": [
    "The `stdlib.h` library includes memory management functions.\n",
    "The statement `#include <stdlib.h>` at the top of your program gives you access to the following:\n",
    "\n",
    "\n",
    "*   `malloc(size)` &mdash; dynamically allocates `size` bytes of memory in the **heap** and returns a pointer to the allocated memory.\n",
    "*   `calloc(num_items, item_size)` &mdash; dynamically allocates memory in the **heap** and returns a pointer  to a contiguous block of memory that has `num_items` items, each of size `item_size` bytes. Typically used for arrays, structures, and other derived data types. The allocated memory is initialized to 0.\n",
    "*   `realloc(ptr, new_size)` &mdash; resizes the memory pointed to by `ptr` to `new_size` bytes. The newly allocated memory is not initialized.\n",
    "*   `free(ptr)` &mdash; releases the block of memory pointed to by `ptr`.\n",
    "\n",
    "\n",
    "\n",
    "> When you no longer need a block of allocated memory, use the function `free()` to make the block available to be allocated again.\n",
    "\n",
    "\n",
    "\n",
    "\n",
    "\n"
   ]
  },
  {
   "cell_type": "markdown",
   "metadata": {
    "id": "AE4xZ2-ol6o7",
    "slideshow": {
     "slide_type": "slide"
    }
   },
   "source": [
    "# The `malloc` function\n",
    "\n",
    "The `malloc()` function allocates a specified number of contiguous bytes in memory. For example:"
   ]
  },
  {
   "cell_type": "code",
   "execution_count": 5,
   "metadata": {
    "colab": {
     "base_uri": "https://localhost:8080/"
    },
    "id": "fpVth4LSIZQh",
    "outputId": "36935025-5384-453b-812d-c3da91d18d70"
   },
   "outputs": [
    {
     "name": "stdout",
     "output_type": "stream",
     "text": [
      "Overwriting malloc.c\n"
     ]
    }
   ],
   "source": [
    "%%writefile malloc.c\n",
    "\n",
    "#include <stdio.h>\n",
    "#include <stdlib.h>\n",
    "int main() {\n",
    "  int *ptr;\n",
    "  ptr = malloc(10*sizeof(*ptr));  /* a block of 10 ints */\n",
    "  if (ptr != NULL) {\n",
    "    *(ptr+2) = 20;  /* assign 20 to third int */\n",
    "  }\n",
    "  printf(\"3rd element equals to %d\", *(ptr + 2));\n",
    "  return 0;\n",
    "}"
   ]
  },
  {
   "cell_type": "code",
   "execution_count": 6,
   "metadata": {
    "colab": {
     "base_uri": "https://localhost:8080/"
    },
    "id": "fo5as0V5mnTP",
    "outputId": "21882b2d-dae4-452a-d971-c2fa969dcd45",
    "slideshow": {
     "slide_type": "slide"
    }
   },
   "outputs": [
    {
     "name": "stdout",
     "output_type": "stream",
     "text": [
      "3rd element equals to 20"
     ]
    }
   ],
   "source": [
    "%%script bash\n",
    "gcc malloc.c -o malloc\n",
    "./malloc"
   ]
  },
  {
   "cell_type": "markdown",
   "metadata": {
    "id": "Wqigh0v9nLl5",
    "slideshow": {
     "slide_type": "slide"
    }
   },
   "source": [
    "The allocated memory is [**contiguous**](https://www.thefreedictionary.com/contiguous) and can be treated as an **array**. Instead of using brackets `[ ]` to refer to elements, pointer arithmetic is used to traverse the array. You are advised to use `+` to refer to array elements. Using `++` or `+=` changes the address stored by the pointer.\n",
    "\n",
    "If the allocation is unsuccessful, `NULL` is returned. Because of this, you should include code to check for a `NULL` pointer.\n",
    "\n",
    "\n",
    "\n",
    "> A simple two-dimensional array requires `(rows*columns)*sizeof(datatype)` bytes of memory.\n",
    "\n"
   ]
  },
  {
   "cell_type": "markdown",
   "metadata": {
    "id": "RUOQNy0qpBkS",
    "slideshow": {
     "slide_type": "slide"
    }
   },
   "source": [
    "# The `free` function\n",
    "\n",
    "The `free()` function is a memory management function that is called to **release memory**. By freeing memory, you make more available for use later in your program. For example:"
   ]
  },
  {
   "cell_type": "code",
   "execution_count": 7,
   "metadata": {
    "colab": {
     "base_uri": "https://localhost:8080/"
    },
    "id": "-ceoRGxxmuNe",
    "outputId": "fd6bab46-f2b9-4f6a-ff24-15aab1ce123a"
   },
   "outputs": [
    {
     "name": "stdout",
     "output_type": "stream",
     "text": [
      "Overwriting free.c\n"
     ]
    }
   ],
   "source": [
    "%%writefile free.c\n",
    "\n",
    "#include <stdio.h>\n",
    "#include <stdlib.h>\n",
    "int main() {\n",
    "  int *ptr;\n",
    "  ptr = malloc(10*sizeof(*ptr));  /* a block of 10 ints */\n",
    "  if (ptr != NULL) {\n",
    "    *(ptr+2) = 20;  /* assign 20 to third int */\n",
    "  }\n",
    "  printf(\"%d\\n\", *(ptr + 2));\n",
    "\n",
    "  free(ptr);\n",
    "\n",
    "  return 0;\n",
    "}"
   ]
  },
  {
   "cell_type": "code",
   "execution_count": 8,
   "metadata": {
    "colab": {
     "base_uri": "https://localhost:8080/"
    },
    "id": "otPf4f9equF1",
    "outputId": "0c136823-451c-48ef-d334-228e9e7ff275",
    "slideshow": {
     "slide_type": "slide"
    }
   },
   "outputs": [
    {
     "name": "stdout",
     "output_type": "stream",
     "text": [
      "20\n"
     ]
    }
   ],
   "source": [
    "%%script bash\n",
    "gcc free.c -o free\n",
    "./free"
   ]
  },
  {
   "cell_type": "markdown",
   "metadata": {
    "id": "BH4wHFg_rl7x",
    "slideshow": {
     "slide_type": "slide"
    }
   },
   "source": [
    "# The `calloc` function\n",
    "\n",
    "`calloc()` stands for contiguous allocation and is used for dynamically allocating memory in the heap. It allocates memory based on the size of a specific item, such as a structure.\n",
    "\n",
    "**Key differences between `malloc` and `calloc`**\n",
    "\n",
    "| Feature               | `malloc`                                      | `calloc`                                    |\n",
    "|-----------------------|-----------------------------------------------|---------------------------------------------|\n",
    "| **Initialization**     | Does not initialize memory (may contain garbage values). | Initializes memory to zero.                |\n",
    "| **Number of Arguments**| Takes 1 argument: the total size in bytes.   | Takes 2 arguments: number of items and the size of each item. |\n",
    "| **Performance**        | Slightly faster (no initialization).         | Slightly slower due to zeroing the memory.  |\n",
    "\n"
   ]
  },
  {
   "cell_type": "markdown",
   "metadata": {
    "id": "bSp0YTWovKar",
    "slideshow": {
     "slide_type": "slide"
    }
   },
   "source": [
    "The program below uses `calloc` to allocate memory for a structure and `malloc` to allocate memory for the string within the structure:"
   ]
  },
  {
   "cell_type": "code",
   "execution_count": 9,
   "metadata": {
    "colab": {
     "base_uri": "https://localhost:8080/"
    },
    "id": "j7_jy0RVq0NP",
    "outputId": "4a0093ee-4f18-4a78-e9bc-b09965d86105"
   },
   "outputs": [
    {
     "name": "stdout",
     "output_type": "stream",
     "text": [
      "Overwriting calloc.c\n"
     ]
    }
   ],
   "source": [
    "%%writefile calloc.c\n",
    "\n",
    "#include <stdio.h>\n",
    "#include <stdlib.h>\n",
    "#include <string.h>\n",
    "\n",
    "typedef struct {\n",
    "  int num;\n",
    "  char *info;\n",
    "} record;\n",
    "\n",
    "int main() {\n",
    "  record *recs;\n",
    "  int num_recs = 3;\n",
    "  int k;\n",
    "  char str[ ] = \"This is information\";\n",
    "\n",
    "  recs = calloc(num_recs, sizeof(record));\n",
    "  if (recs != NULL) {\n",
    "    for (k = 0; k < num_recs; k++) {\n",
    "      (recs+k)->num = k;\n",
    "      (recs+k)->info = malloc(sizeof(str));\n",
    "      strcpy((recs+k)->info, str);\n",
    "    }\n",
    "  }\n",
    "\n",
    "  for (k = 0; k < num_recs; k++) {\n",
    "    printf(\"%d\\t%s\\n\", (recs+k)->num, (recs+k)->info);\n",
    "  }\n",
    "\n",
    "  return 0;\n",
    "}"
   ]
  },
  {
   "cell_type": "code",
   "execution_count": 10,
   "metadata": {
    "colab": {
     "base_uri": "https://localhost:8080/"
    },
    "id": "rBivP8WXuV80",
    "outputId": "b6aa3f4d-3b54-4b5b-f470-9f5fc52f9f35",
    "slideshow": {
     "slide_type": "slide"
    }
   },
   "outputs": [
    {
     "name": "stdout",
     "output_type": "stream",
     "text": [
      "0\tThis is information\n",
      "1\tThis is information\n",
      "2\tThis is information\n"
     ]
    }
   ],
   "source": [
    "%%script bash\n",
    "gcc calloc.c -o calloc\n",
    "./calloc"
   ]
  },
  {
   "cell_type": "markdown",
   "metadata": {
    "id": "bg1Uln9FvY_c",
    "slideshow": {
     "slide_type": "slide"
    }
   },
   "source": [
    "`calloc` allocates blocks of memory within a **contiguous block** of memory for an array of structure elements. You can navigate from one structure to the next with pointer arithmetic.\n",
    "\n",
    "After allocating room for a structure, memory must be allocated for the string within the structure. Using a pointer for the `info` member allows any length string to be stored.\n",
    "\n",
    "Dynamically allocated structures are the basis of **linked lists** and **binary trees** as well as other data structures."
   ]
  },
  {
   "cell_type": "markdown",
   "metadata": {
    "id": "iHv8RMcD-xSa",
    "slideshow": {
     "slide_type": "slide"
    }
   },
   "source": [
    "# The `realloc` function\n",
    "\n",
    "The `realloc()` function expands a current block to include additional memory. For example:"
   ]
  },
  {
   "cell_type": "code",
   "execution_count": 11,
   "metadata": {
    "colab": {
     "base_uri": "https://localhost:8080/"
    },
    "id": "VQKyS-POuduP",
    "outputId": "2afcf7d0-ce22-48ff-a63e-a6c9072257df",
    "slideshow": {
     "slide_type": "-"
    }
   },
   "outputs": [
    {
     "name": "stdout",
     "output_type": "stream",
     "text": [
      "Overwriting realloc.c\n"
     ]
    }
   ],
   "source": [
    "%%writefile realloc.c\n",
    "\n",
    "#include <stdio.h>\n",
    "#include <stdlib.h>\n",
    "\n",
    "int main() {\n",
    "  int *ptr;\n",
    "  ptr = malloc(10*sizeof(*ptr));  /* a block of 10 ints */\n",
    "  if (ptr != NULL) {\n",
    "    *(ptr+2) = 20;  /* assign 20 to third int */\n",
    "  }\n",
    "  //ptr = realloc(ptr, 100*sizeof(*ptr)); /* 100 ints */\n",
    "  *(ptr+30) = 66;\n",
    "  printf(\"%d %d\", *(ptr+2), *(ptr+30));\n",
    "\n",
    "  return 0;\n",
    "}"
   ]
  },
  {
   "cell_type": "code",
   "execution_count": 12,
   "metadata": {
    "colab": {
     "base_uri": "https://localhost:8080/"
    },
    "id": "1oW4xLYx_2_A",
    "outputId": "3e7acdb3-e5c3-4809-87ef-98a94b7ff392",
    "slideshow": {
     "slide_type": "slide"
    }
   },
   "outputs": [
    {
     "name": "stdout",
     "output_type": "stream",
     "text": [
      "20 66"
     ]
    }
   ],
   "source": [
    "%%script bash\n",
    "gcc realloc.c -o realloc\n",
    "./realloc"
   ]
  },
  {
   "cell_type": "markdown",
   "metadata": {
    "id": "vt2xYT6xA3p7"
   },
   "source": [
    "`realloc` leaves the original content in memory and expands the block to allow for more storage."
   ]
  },
  {
   "cell_type": "markdown",
   "metadata": {
    "id": "RZjkkt8PCKeu",
    "slideshow": {
     "slide_type": "slide"
    }
   },
   "source": [
    "# Allocating memory for strings\n",
    "\n",
    "When allocating memory for a string pointer, you may want to use string length rather than the sizeof operator for calculating bytes. Consider the following program:"
   ]
  },
  {
   "cell_type": "code",
   "execution_count": 13,
   "metadata": {
    "colab": {
     "base_uri": "https://localhost:8080/"
    },
    "id": "6M92wLk3_7yA",
    "outputId": "20554759-c77d-4186-80da-55fb682a5ca9"
   },
   "outputs": [
    {
     "name": "stdout",
     "output_type": "stream",
     "text": [
      "Overwriting strings.c\n"
     ]
    }
   ],
   "source": [
    "%%writefile strings.c\n",
    "\n",
    "#include <stdio.h>\n",
    "#include <stdlib.h>\n",
    "#include <string.h>\n",
    "\n",
    "int main() {\n",
    "  char str20[20];\n",
    "  char *str = NULL;\n",
    "\n",
    "  strcpy(str20, \"12345\");\n",
    "  printf(\"str20 size: %ld\\n\", sizeof(str20));\n",
    "  printf(\"str20 length: %ld\\n\", strlen(str20));\n",
    "  str = malloc(strlen(str20)+1); /* make room for \\0 */\n",
    "  strcpy(str, str20);\n",
    "  printf(\"%s\", str);\n",
    "\n",
    "  return 0;\n",
    "}"
   ]
  },
  {
   "cell_type": "code",
   "execution_count": 14,
   "metadata": {
    "colab": {
     "base_uri": "https://localhost:8080/"
    },
    "id": "e9-qLzHsCsgl",
    "outputId": "9629e488-d550-41b0-fb6d-81c99a2a2d7e",
    "slideshow": {
     "slide_type": "slide"
    }
   },
   "outputs": [
    {
     "name": "stdout",
     "output_type": "stream",
     "text": [
      "str20 size: 20\n",
      "str20 length: 5\n",
      "12345"
     ]
    }
   ],
   "source": [
    "%%script bash\n",
    "gcc strings.c -o strings\n",
    "./strings"
   ]
  },
  {
   "cell_type": "markdown",
   "metadata": {
    "id": "cCkI0281B585",
    "slideshow": {
     "slide_type": "slide"
    }
   },
   "source": [
    "The `strcpy` function in C is used to copy a string from one character array (source) to another (destination):\n",
    "\n",
    "\n",
    "```\n",
    "strcpy(destination, source)\n",
    "```\n",
    "\n",
    "It is part of the `<string.h>` library."
   ]
  },
  {
   "cell_type": "markdown",
   "metadata": {
    "id": "E4AXZZMFDn8J"
   },
   "source": [
    "This approach is better memory management because you aren’t allocating more space than is needed to a pointer. When using `strlen` to determine the number of bytes needed for a string, be sure to include one extra byte for the `NULL` character `'\\0'`.\n",
    "\n",
    "A `char` is always one byte, so there is no need to multiply the memory requirements by `sizeof(char)`."
   ]
  },
  {
   "cell_type": "markdown",
   "metadata": {
    "id": "wLItInHqFmSN",
    "slideshow": {
     "slide_type": "slide"
    }
   },
   "source": [
    "# Dynamic Arrays\n",
    "\n",
    "Many algorithms implement a **dynamic array** because this allows the number of elements to grow as needed.\n",
    "\n",
    "Because elements are not allocated all at once, dynamic arrays typically use a structure to keep track of current array size, current capacity, and a pointer to the elements, as in the following program:"
   ]
  },
  {
   "cell_type": "code",
   "execution_count": 15,
   "metadata": {
    "colab": {
     "base_uri": "https://localhost:8080/"
    },
    "id": "BqY-TXKUB-82",
    "outputId": "4c30f55d-68fc-47bf-b595-04312b9d52a3",
    "slideshow": {
     "slide_type": "slide"
    }
   },
   "outputs": [
    {
     "name": "stdout",
     "output_type": "stream",
     "text": [
      "Overwriting dynamic-arrays.c\n"
     ]
    }
   ],
   "source": [
    "%%writefile dynamic-arrays.c\n",
    "\n",
    "#include <stdio.h>\n",
    "#include <stdlib.h>\n",
    "\n",
    "typedef struct {\n",
    "  int *elements;\n",
    "  int size;\n",
    "  int cap;\n",
    "} dyn_array;\n",
    "\n",
    "int main() {\n",
    "  dyn_array arr;\n",
    "  int i;\n",
    "\n",
    "  /* initialize array */\n",
    "  arr.size = 0;\n",
    "  arr.elements = calloc(1, sizeof(*arr.elements));\n",
    "  arr.cap = 1;  /* room for 1 element */\n",
    "\n",
    "  /* expand by 5 more elements */\n",
    "  arr.elements = realloc(arr.elements, (5 + arr.cap)*sizeof(*arr.elements));\n",
    "  if (arr.elements != NULL)\n",
    "    arr.cap += 5; /* increase capacity */\n",
    "\n",
    "  /* add an element and increase size */\n",
    "  if (arr.size < arr.cap) {\n",
    "    arr.elements[arr.size] = 20; /* add element to array */\n",
    "    arr.size++;\n",
    "  }\n",
    "  else\n",
    "    printf(\"Need to expand array.\");\n",
    "\n",
    "  /* display array elements */\n",
    "  for (i = 0; i < arr.cap; i++)\n",
    "    printf(\"Element %d: %d\\n\", i, arr.elements[ i ]);\n",
    "\n",
    "  return 0;\n",
    "}"
   ]
  },
  {
   "cell_type": "code",
   "execution_count": 16,
   "metadata": {
    "colab": {
     "base_uri": "https://localhost:8080/"
    },
    "id": "XDkiyQVyF7Xt",
    "outputId": "ad78def5-8405-43ad-aef0-83d8fe0bc8a8",
    "slideshow": {
     "slide_type": "slide"
    }
   },
   "outputs": [
    {
     "name": "stdout",
     "output_type": "stream",
     "text": [
      "Element 0: 20\n",
      "Element 1: 0\n",
      "Element 2: 0\n",
      "Element 3: 0\n",
      "Element 4: 0\n",
      "Element 5: 0\n"
     ]
    }
   ],
   "source": [
    "%%script bash\n",
    "gcc dynamic-arrays.c -o dynamic-arrays\n",
    "./dynamic-arrays"
   ]
  },
  {
   "cell_type": "markdown",
   "metadata": {
    "id": "AFJFKfNCGVUS",
    "slideshow": {
     "slide_type": "slide"
    }
   },
   "source": [
    "The entire program is written in main() for demonstration purposes. To properly implement a dynamic array, sub-tasks should be broken down into functions such as `init_array()`, `increase_array()`, `add_element()`, and `display_array()`. The error checking was also skipped to keep the demo short."
   ]
  },
  {
   "cell_type": "markdown",
   "metadata": {
    "id": "4LkMT47hIhNs",
    "slideshow": {
     "slide_type": "slide"
    }
   },
   "source": [
    "# Addressing Memory Management Issues in C\n",
    "\n",
    "## Memory Leaks\n",
    "\n",
    "A memory leak occurs when dynamically allocated memory is not explicitly deallocated, it remains occupied, leading to memory leaks or if all references to allocated memory are lost before calling `free()`, the memory remains allocated but inaccessible."
   ]
  },
  {
   "cell_type": "code",
   "execution_count": 17,
   "metadata": {
    "colab": {
     "base_uri": "https://localhost:8080/"
    },
    "id": "NvRxvfqJGBKR",
    "outputId": "4d220426-79ab-465d-cd2d-729112ddd896",
    "slideshow": {
     "slide_type": "slide"
    }
   },
   "outputs": [
    {
     "name": "stdout",
     "output_type": "stream",
     "text": [
      "Overwriting leak.c\n"
     ]
    }
   ],
   "source": [
    "%%writefile leak.c\n",
    "\n",
    "#include <stdio.h>\n",
    "#include <stdlib.h>\n",
    "\n",
    "void leak() {\n",
    "  int *p = malloc(sizeof(int)); // Allocating memory\n",
    "  if (p == NULL) {\n",
    "    printf(\"Memory allocation failed!\\n\");\n",
    "    return;\n",
    "  }\n",
    "  p = NULL;  // Lost reference to allocated memory (leak)\n",
    "}\n",
    "\n",
    "int main() {\n",
    "    leak();\n",
    "    printf(\"Memory leak occurred!\\n\");\n",
    "    return 0;\n",
    "}"
   ]
  },
  {
   "cell_type": "code",
   "execution_count": 18,
   "metadata": {
    "colab": {
     "base_uri": "https://localhost:8080/"
    },
    "id": "hj9ys3-fMn2i",
    "outputId": "9ecd7080-8262-4e96-8aad-95ddbbd6b60f",
    "slideshow": {
     "slide_type": "slide"
    }
   },
   "outputs": [
    {
     "name": "stdout",
     "output_type": "stream",
     "text": [
      "Memory leak occurred!\n"
     ]
    }
   ],
   "source": [
    "%%script bash\n",
    "gcc leak.c -o leak\n",
    "./leak"
   ]
  },
  {
   "cell_type": "markdown",
   "metadata": {
    "id": "FP0Ao3A0OKrw",
    "slideshow": {
     "slide_type": "slide"
    }
   },
   "source": [
    "## Dangling Pointers\n",
    "\n",
    "Accessing memory after it has been **freed** leads to **undefined behavior**, as the memory may be reused or overwritten by other parts of the program. This is known as using a **dangling pointer**, which can cause crashes or unpredictable results.\n",
    "\n",
    "\n",
    "```\n",
    "int *p = malloc(sizeof(int));\n",
    "free(p);\n",
    "*p = 10; // Undefined behavior!\n",
    "```\n",
    "\n"
   ]
  },
  {
   "cell_type": "markdown",
   "metadata": {
    "id": "5Vi5RJ8NRig6",
    "slideshow": {
     "slide_type": "slide"
    }
   },
   "source": [
    "## Double Free\n",
    "\n",
    "Double free leads to undefined behavior. It can cause a crash, memory corruption, or other unpredictable results.\n",
    "\n",
    "```\n",
    "free(p);\n",
    "free(p); // Crash or corruption\n",
    "```"
   ]
  },
  {
   "cell_type": "markdown",
   "metadata": {
    "id": "JK2m8eZyOXF8",
    "slideshow": {
     "slide_type": "slide"
    }
   },
   "source": [
    "## Fragmentation\n",
    "\n",
    "Frequent allocation and deallocation of memory can create small, fragmented memory blocks that are too tiny for future allocations, leading to inefficient memory usage and potential performance issues. This phenomenon is known as memory fragmentation.\n",
    "\n",
    "\n",
    "\n",
    "\n"
   ]
  },
  {
   "cell_type": "code",
   "execution_count": 19,
   "metadata": {
    "colab": {
     "base_uri": "https://localhost:8080/"
    },
    "id": "ReruDdk7O5Gi",
    "outputId": "555b5602-712b-47a4-ca2b-b68aceb9bb74",
    "slideshow": {
     "slide_type": "slide"
    }
   },
   "outputs": [
    {
     "name": "stdout",
     "output_type": "stream",
     "text": [
      "Overwriting fragmentation.c\n"
     ]
    }
   ],
   "source": [
    "%%writefile fragmentation.c\n",
    "\n",
    "#include <stdio.h>\n",
    "#include <stdlib.h>\n",
    "\n",
    "int main() {\n",
    "    // Allocate three separate memory blocks\n",
    "    int *a = malloc(100 * sizeof(int));\n",
    "    int *b = malloc(50 * sizeof(int));\n",
    "    int *c = malloc(200 * sizeof(int));\n",
    "\n",
    "    // Free the first and third blocks, leaving fragmented memory\n",
    "    free(a);\n",
    "    free(c);\n",
    "\n",
    "    // Now, try to allocate a large block\n",
    "    int *d = malloc(250 * sizeof(int));\n",
    "\n",
    "    if (d == NULL) {\n",
    "        printf(\"Memory allocation failed due to fragmentation!\\n\");\n",
    "    } else {\n",
    "        printf(\"Memory allocation successful!\\n\");\n",
    "        free(d); // Free allocated memory\n",
    "    }\n",
    "\n",
    "    free(b); // Free remaining memory\n",
    "    return 0;\n",
    "}"
   ]
  },
  {
   "cell_type": "code",
   "execution_count": 20,
   "metadata": {
    "colab": {
     "base_uri": "https://localhost:8080/"
    },
    "id": "zT36620UTNzu",
    "outputId": "4d0034d8-a6da-4513-be34-addc93bb0d77",
    "slideshow": {
     "slide_type": "slide"
    }
   },
   "outputs": [
    {
     "name": "stdout",
     "output_type": "stream",
     "text": [
      "Memory allocation successful!\n"
     ]
    }
   ],
   "source": [
    "%%script bash\n",
    "gcc fragmentation.c -o fragmentation\n",
    "./fragmentation"
   ]
  },
  {
   "cell_type": "code",
   "execution_count": 20,
   "metadata": {
    "id": "1Vc7h0rcTTBb"
   },
   "outputs": [],
   "source": []
  }
 ],
 "metadata": {
  "celltoolbar": "Slideshow",
  "colab": {
   "provenance": []
  },
  "kernelspec": {
   "display_name": "Python 3 (ipykernel)",
   "language": "python",
   "name": "python3"
  },
  "language_info": {
   "codemirror_mode": {
    "name": "ipython",
    "version": 3
   },
   "file_extension": ".py",
   "mimetype": "text/x-python",
   "name": "python",
   "nbconvert_exporter": "python",
   "pygments_lexer": "ipython3",
   "version": "3.10.12"
  }
 },
 "nbformat": 4,
 "nbformat_minor": 1
}
