{
 "cells": [
  {
   "cell_type": "markdown",
   "metadata": {
    "id": "view-in-github",
    "slideshow": {
     "slide_type": "slide"
    }
   },
   "source": [
    "<a href=\"https://colab.research.google.com/github/ai4ci-kpi/Refresh-in-C/blob/main/Lecture_4_Processes_and_Multi_threading_programming.ipynb\" target=\"_parent\"><img src=\"https://colab.research.google.com/assets/colab-badge.svg\" alt=\"Open In Colab\"/></a>"
   ]
  },
  {
   "cell_type": "markdown",
   "metadata": {
    "id": "qtO3gQ5H6XA0"
   },
   "source": [
    "\n",
    "\n",
    "<img src=\"https://github.com/ai4ci-kpi/Refresh-in-C/blob/main/img/c-language-logo-simple.png?raw=true\" alt=\"Test Image\" width=\"100\"/>\n",
    "\n"
   ]
  },
  {
   "cell_type": "markdown",
   "metadata": {
    "id": "PLX0uS29NOhE"
   },
   "source": [
    "# Introduction\n",
    "Today, we’ll dive into the core principles of processes and multi-threading programming in C:\n",
    "\n",
    "   * Understanding how processes are created and managed in C.\n",
    "   * Exploring the concepts of process synchronization and inter-process communication (IPC).\n",
    "   * Grasping the principles of multi-threading, thread creation, and thread management.\n",
    "   * Understanding thread synchronization techniques to avoid race conditions and deadlocks.\n",
    "   * How processes and threads enable efficient parallel execution and resource sharing.\n",
    "\n",
    "Understanding processes and multi-threading in C is crucial because they allow programs to perform multiple tasks concurrently, manage system resources efficiently, and handle complex computations in parallel.\n",
    "\n",
    "\n",
    "---\n",
    "\n",
    "\n"
   ]
  },
  {
   "cell_type": "markdown",
   "metadata": {
    "id": "NEATbUHc6WV4",
    "slideshow": {
     "slide_type": "slide"
    }
   },
   "source": [
    "# Processes\n",
    "\n",
    "If files are the most fundamental abstraction in a Unix system, processes are the runner up. Processes are object code in execution: active, running programs. But they’re more than just object code — processes consist of data, resources, state, and a virtualized computer.\n",
    "\n"
   ]
  },
  {
   "cell_type": "markdown",
   "metadata": {
    "id": "9dyrviGeOl6u",
    "slideshow": {
     "slide_type": "slide"
    }
   },
   "source": [
    "Processes begin life as executable object code, which is machine-runnable code in an executable format that the kernel understands. The format most common in Linux is called **Executable and Linkable Format (ELF)**. The executable format contains metadata, and multiple *sections* of code and data. Sections are linear chunks of the object code that load into linear chunks of memory. All bytes in a section are treated the same, given the same permissions, and generally used for similar purposes."
   ]
  },
  {
   "cell_type": "markdown",
   "metadata": {
    "id": "5PcYqo4uO0tk",
    "slideshow": {
     "slide_type": "slide"
    }
   },
   "source": [
    "The most important and common sections are the **text section**, the **data section**, and the **bss section**."
   ]
  },
  {
   "cell_type": "markdown",
   "metadata": {
    "id": "5xM920KhRKGf",
    "slideshow": {
     "slide_type": "slide"
    }
   },
   "source": [
    "The **text section** contains executable code and read-only data, such as constant variables, and is typically marked read-only and executable."
   ]
  },
  {
   "cell_type": "markdown",
   "metadata": {
    "id": "pVwZ7a2kRWQQ",
    "slideshow": {
     "slide_type": "slide"
    }
   },
   "source": [
    "The **data section** contains initialized data, such as C variables with defined values, and is typically marked readable and writable."
   ]
  },
  {
   "cell_type": "markdown",
   "metadata": {
    "id": "Ku7PL48yRnmN",
    "slideshow": {
     "slide_type": "slide"
    }
   },
   "source": [
    "The **bss section** contains uninitialized global data. Because the C standard dictates default values for global C variables that are essentially all zeros, there is no need to store the zeros in the object code on disk. Instead, the object code can simply list the uninitialized variables in the bss section, and the kernel can map the zero page (a page of all zeros) over the section when it is loaded into memory. The bss section was conceived solely as an optimization for this purpose. The name is a historic relic; it stands for block started by symbol."
   ]
  },
  {
   "cell_type": "markdown",
   "metadata": {
    "id": "zozAivajSv_C",
    "slideshow": {
     "slide_type": "slide"
    }
   },
   "source": [
    "Other common sections in ELF executables are the **absolute section** (which contains nonrelocatable symbols) and the **undefined section** (a catchall)."
   ]
  },
  {
   "cell_type": "markdown",
   "metadata": {
    "id": "izbhkKklV-b5",
    "slideshow": {
     "slide_type": "slide"
    }
   },
   "source": [
    "A process is also associated with various system resources, which are arbitrated and managed by the kernel. Processes typically request and manipulate resources only through system calls. Resources include timers, pending signals, open files, network connections, hardware, and IPC mechanisms. A process’s resources, along with data and statistics related to the process, are stored inside the kernel in the process’s **process descriptor**."
   ]
  },
  {
   "cell_type": "markdown",
   "metadata": {
    "id": "agyBMx39WGj_",
    "slideshow": {
     "slide_type": "slide"
    }
   },
   "source": [
    "A process is a virtualization abstraction. The Linux kernel, supporting both preemptive multitasking and virtual memory, provides every process both a virtualized processor and a virtualized view of memory. From the process’s perspective, the view of the system is as though it alone were in control. That is, even though a given process may be scheduled alongside many other processes, it runs as though it has sole control of the system. The kernel seamlessly and transparently preempts and reschedules processes, sharing\n",
    "the system’s processors among all running processes. Processes never know the difference. Similarly, each process is afforded a single linear address space, as if it alone were in control of all of the memory in the system. Through virtual memory and paging, the kernel allows many processes to coexist on the system, each operating in a different address space. The kernel manages this virtualization through hardware support provided by modern processors, allowing the operating system to concurrently manage the state of multiple independent processes."
   ]
  },
  {
   "cell_type": "markdown",
   "metadata": {
    "id": "MAcFwK34YLDe",
    "slideshow": {
     "slide_type": "slide"
    }
   },
   "source": [
    "# Threads\n",
    "\n",
    "Each process consists of one or more **threads of execution** (usually simplified to threads). A thread is the unit of activity within a process. In other words, a thread is the abstraction responsible for executing code and maintaining the process’s running state."
   ]
  },
  {
   "cell_type": "markdown",
   "metadata": {
    "id": "Zb4uiHfrYqHS",
    "slideshow": {
     "slide_type": "slide"
    }
   },
   "source": [
    "Most processes consist of only a **single thread**; they are called single-threaded. Processes that contain multiple threads are said to be **multi-threaded**. Traditionally, Unix programs have been single-threaded, owing to Unix’s historic simplicity, fast process creation times, and robust IPC mechanisms, all of which mitigate the desire for threads."
   ]
  },
  {
   "cell_type": "markdown",
   "metadata": {
    "id": "-fngqpcXeD9Q",
    "slideshow": {
     "slide_type": "slide"
    }
   },
   "source": [
    "A thread consists of a stack (which stores its local variables, just as the process stack does on nonthreaded systems), processor state, and a current location in the object code (usually stored in the processor’s **instruction pointer**). The majority of the remaining parts of a process are shared among all threads, most notably the process address space. In this manner, threads share the virtual memory abstraction while maintaining the virtualized processor abstraction."
   ]
  },
  {
   "cell_type": "markdown",
   "metadata": {
    "id": "IDfdb8vnf-sQ",
    "slideshow": {
     "slide_type": "slide"
    }
   },
   "source": [
    "Internally, the Linux kernel implements a unique view of threads: they are simply normal processes that happen to share some resources. In user space, Linux implements threads in accordance with POSIX 1003.1c (known as Pthreads). The name of the current Linux thread implementation, which is part of `glibc`, is the Native POSIX Threading Library (NPTL)."
   ]
  },
  {
   "cell_type": "markdown",
   "metadata": {
    "id": "TalDuyOpgati",
    "slideshow": {
     "slide_type": "slide"
    }
   },
   "source": [
    "# Process hierarchy\n",
    "\n",
    "Each process is identified by a unique positive integer called the `process ID` (`pid`). The `pid` of the first process is `1`, and each subsequent process receives a new, unique `pid`."
   ]
  },
  {
   "cell_type": "markdown",
   "metadata": {
    "id": "n6a50-k8ihNm",
    "slideshow": {
     "slide_type": "slide"
    }
   },
   "source": [
    "In Linux, processes form a strict hierarchy, known as the **process tree**. The process tree is rooted at the first process, known as the **init process**, which is typically the **init** program. New processes are created via the `fork()` system call. This system call creates a duplicate of the calling process. The original process is called the **parent**; the new process is called\n",
    "the **child**. Every process except the first has a parent. If a parent process terminates before its child, the kernel will **reparent** the child to the init process."
   ]
  },
  {
   "cell_type": "markdown",
   "metadata": {
    "id": "nmJuNmspkkUB",
    "slideshow": {
     "slide_type": "slide"
    }
   },
   "source": [
    "When a process terminates, it is not immediately removed from the system. Instead, the kernel keeps parts of the process resident in memory to allow the process’s parent to inquire about its status upon terminating. This inquiry is known as **waiting on** the terminated process. Once the parent process has waited on its terminated child, the child is fully destroyed. A process that has terminated, but has not yet been waited upon, is called a **zombie**. The init process routinely waits on all of its children, ensuring that reparented processes do not remain zombies forever."
   ]
  },
  {
   "cell_type": "markdown",
   "metadata": {
    "id": "KyXneOAbk2Mz",
    "slideshow": {
     "slide_type": "slide"
    }
   },
   "source": [
    "## Example 1: Example: Creating a child process\n",
    "\n",
    "Processes are independent execution units with their own memory space. You can create a new process  using the `fork()` system call. The `fork( )` function creates a child process which is exactly identical to the parent process except for the return value of `fork( )`:\n",
    "\n",
    "*   Negative on failure.\n",
    "*   `0` for the child process.\n",
    "*   Positive integer (child PID) for the parent process."
   ]
  },
  {
   "cell_type": "code",
   "execution_count": 8,
   "metadata": {
    "colab": {
     "base_uri": "https://localhost:8080/"
    },
    "id": "QHZPpTWch4TW",
    "outputId": "7e6d54d1-9a9d-4313-ba0e-e85726b44639",
    "slideshow": {
     "slide_type": "slide"
    }
   },
   "outputs": [
    {
     "name": "stdout",
     "output_type": "stream",
     "text": [
      "Overwriting child-process.c\n"
     ]
    }
   ],
   "source": [
    "%%writefile child-process.c\n",
    "\n",
    "#include <stdlib.h>\t/* needed to define exit() */\n",
    "#include <unistd.h>\t/* needed for fork() and getpid() */\n",
    "#include <stdio.h>\t/* needed for printf() */\n",
    "\n",
    "int main() {\n",
    "\tint pid;\t/* process ID */\n",
    "\n",
    "\tswitch (pid = fork()) {\n",
    "\tcase 0:\t\t/* a fork returns 0 to the child */\n",
    "\t\tprintf(\"Hello from the child process! (PID: %d)\\n\", getpid());\n",
    "\t\tbreak;\n",
    "\n",
    "\tdefault:\t/* a fork returns a pid to the parent */\n",
    "\t\tprintf(\"Hello from the parent process! (PID: %d, Child PID: %d)\\n\", getpid(), pid);\n",
    "\t\tbreak;\n",
    "\n",
    "\tcase -1:\t/* something went wrong */\n",
    "\t\tperror(\"fork\");\n",
    "\t\texit(1);\n",
    "\t}\n",
    "\texit(0);\n",
    "}"
   ]
  },
  {
   "cell_type": "code",
   "execution_count": 9,
   "metadata": {
    "colab": {
     "base_uri": "https://localhost:8080/"
    },
    "id": "jxII1Fl9h-Mn",
    "outputId": "2ebbb64c-745e-455a-b957-443c30dad6df",
    "slideshow": {
     "slide_type": "slide"
    }
   },
   "outputs": [
    {
     "name": "stdout",
     "output_type": "stream",
     "text": [
      "Hello from the parent process! (PID: 4814, Child PID: 4815)\n",
      "Hello from the child process! (PID: 4815)\n"
     ]
    }
   ],
   "source": [
    "%%script bash\n",
    "gcc child-process.c -o child-process\n",
    "./child-process"
   ]
  },
  {
   "cell_type": "markdown",
   "metadata": {
    "id": "Stv0bRIziSpv",
    "slideshow": {
     "slide_type": "slide"
    }
   },
   "source": [
    "## Example 2: Child and parent processes\n",
    "\n",
    "Let us consider the following program that uses the child to compute partial sums (`sum`) and parent to compute the partial products (`pdt`) of an array of integers."
   ]
  },
  {
   "cell_type": "code",
   "execution_count": 18,
   "metadata": {
    "colab": {
     "base_uri": "https://localhost:8080/"
    },
    "id": "BUWMHmMUcGs8",
    "outputId": "353b4374-da5d-4e1d-a254-22a8849bc87f"
   },
   "outputs": [
    {
     "name": "stdout",
     "output_type": "stream",
     "text": [
      "Overwriting child-process2.c\n"
     ]
    }
   ],
   "source": [
    "%%writefile child-process2.c\n",
    "\n",
    "#include <stdlib.h>\t/* needed to define exit() */\n",
    "#include <unistd.h>\t/* needed for fork() and getpid() */\n",
    "#include <stdio.h>\t/* needed for printf() */\n",
    "\n",
    "int main() {\n",
    "  int A[] = {1, 2, 3, 4, 5, 6};\n",
    "  int sum = 0, pdt = 1, pid;\n",
    "\n",
    "\tswitch (pid = fork()) {\n",
    "\tcase 0:\t\t/* a fork returns 0 to the child */\n",
    "\t\tfor (int i = 0; i < 6; i++) sum += A[i];\n",
    "    printf(\"This is child process computed sum %d \\n\", sum);\n",
    "\t\tbreak;\n",
    "\n",
    "\tdefault:\t/* a fork returns a pid to the parent */\n",
    "    for (int i = 0; i < 6; i++) pdt *= A[i];\n",
    "\t\tprintf(\"The parent process completed the product %d \\n\", pdt);\n",
    "\t\tbreak;\n",
    "\n",
    "\tcase -1:\t/* something went wrong */\n",
    "\t\tperror(\"problem creating a process\");\n",
    "\t\texit(1);\n",
    "\t}\n",
    "\texit(0);\n",
    "}"
   ]
  },
  {
   "cell_type": "code",
   "execution_count": 19,
   "metadata": {
    "colab": {
     "base_uri": "https://localhost:8080/"
    },
    "id": "KweA1jwhkMYn",
    "outputId": "93ae7ba6-2d43-4378-cfc7-ad3234a43b39",
    "slideshow": {
     "slide_type": "slide"
    }
   },
   "outputs": [
    {
     "name": "stdout",
     "output_type": "stream",
     "text": [
      "The parent process completed the product 720 \n",
      "This is child process computed sum 21 \n"
     ]
    }
   ],
   "source": [
    "%%script bash\n",
    "gcc child-process2.c -o child-process2\n",
    "./child-process2"
   ]
  },
  {
   "cell_type": "markdown",
   "metadata": {
    "id": "G-unAxsErhT5",
    "slideshow": {
     "slide_type": "slide"
    }
   },
   "source": [
    "## Example 3: Execute any shell command with up to 2 arguments"
   ]
  },
  {
   "cell_type": "code",
   "execution_count": 20,
   "metadata": {
    "colab": {
     "base_uri": "https://localhost:8080/"
    },
    "id": "Io2sw4A4kOoh",
    "outputId": "5ec04aaa-c6b0-49c2-e667-d4204927d6fb"
   },
   "outputs": [
    {
     "name": "stdout",
     "output_type": "stream",
     "text": [
      "Writing shell.c\n"
     ]
    }
   ],
   "source": [
    "%%writefile shell.c\n",
    "\n",
    "#include <stdio.h>\n",
    "#include <stdlib.h>\n",
    "#include <string.h>\n",
    "#include <unistd.h>\n",
    "#include <sys/wait.h>\n",
    "\n",
    "#define MAX_ARGS 3 // Command + 2 arguments\n",
    "\n",
    "int main() {\n",
    "    char input[100];\n",
    "    char *args[MAX_ARGS + 1]; // Array to hold command and arguments (+1 for NULL)\n",
    "    pid_t pid;\n",
    "\n",
    "    while (1) {\n",
    "        // Prompt the user for input\n",
    "        printf(\"myshell> \");\n",
    "        if (fgets(input, sizeof(input), stdin) == NULL) {\n",
    "            break; // Exit on EOF (Ctrl+D)\n",
    "        }\n",
    "\n",
    "        // Remove the newline character from the input\n",
    "        input[strcspn(input, \"\\n\")] = '\\0';\n",
    "\n",
    "        // Tokenize the input into command and arguments\n",
    "        int i = 0;\n",
    "        args[i] = strtok(input, \" \");\n",
    "        while (args[i] != NULL && i < MAX_ARGS) {\n",
    "            i++;\n",
    "            args[i] = strtok(NULL, \" \");\n",
    "        }\n",
    "        args[i] = NULL; // Last element must be NULL for execvp\n",
    "\n",
    "        // Check if the user entered a command\n",
    "        if (args[0] == NULL) {\n",
    "            continue; // Empty input, prompt again\n",
    "        }\n",
    "\n",
    "        // Create a child process to execute the command\n",
    "        pid = fork();\n",
    "        if (pid < 0) {\n",
    "            perror(\"fork\"); // Fork failed\n",
    "            exit(EXIT_FAILURE);\n",
    "        } else if (pid == 0) {\n",
    "            // Child process: Execute the command\n",
    "            execvp(args[0], args);\n",
    "            // If execvp returns, there was an error\n",
    "            perror(\"execvp\");\n",
    "            exit(EXIT_FAILURE);\n",
    "        } else {\n",
    "            // Parent process: Wait for the child to finish\n",
    "            wait(NULL);\n",
    "        }\n",
    "    }\n",
    "\n",
    "    return 0;\n",
    "}"
   ]
  },
  {
   "cell_type": "code",
   "execution_count": 22,
   "metadata": {
    "id": "9RDK8WyimUHp",
    "slideshow": {
     "slide_type": "slide"
    }
   },
   "outputs": [],
   "source": [
    "%%script bash\n",
    "gcc shell.c -o shell"
   ]
  },
  {
   "cell_type": "code",
   "execution_count": 24,
   "metadata": {
    "colab": {
     "base_uri": "https://localhost:8080/"
    },
    "id": "IUlypGGmmZO1",
    "outputId": "94b572e3-310f-4b8f-8710-87e09fe2a5f6"
   },
   "outputs": [
    {
     "name": "stdout",
     "output_type": "stream",
     "text": [
      "myshell> ls -l\n",
      "total 68\n",
      "-rwxr-xr-x 1 root root 16136 Feb  6 08:59 child-process\n",
      "-rwxr-xr-x 1 root root 16096 Feb  6 09:23 child-process2\n",
      "-rw-r--r-- 1 root root   688 Feb  6 09:23 child-process2.c\n",
      "-rw-r--r-- 1 root root   569 Feb  6 08:59 child-process.c\n",
      "drwxr-xr-x 1 root root  4096 Feb  4 14:22 sample_data\n",
      "-rwxr-xr-x 1 root root 16392 Feb  6 09:31 shell\n",
      "-rw-r--r-- 1 root root  1554 Feb  6 09:31 shell.c\n",
      "myshell> gcc --version\n",
      "gcc (Ubuntu 11.4.0-1ubuntu1~22.04) 11.4.0\n",
      "Copyright (C) 2021 Free Software Foundation, Inc.\n",
      "This is free software; see the source for copying conditions.  There is NO\n",
      "warranty; not even for MERCHANTABILITY or FITNESS FOR A PARTICULAR PURPOSE.\n",
      "\n",
      "myshell> echo Hello World from Linux!\n",
      "Hello World\n",
      "myshell> ls\n",
      "child-process  child-process2  child-process2.c  child-process.c  sample_data  shell  shell.c\n",
      "myshell> cat shell.c\n",
      "\n",
      "#include <stdio.h>\n",
      "#include <stdlib.h>\n",
      "#include <string.h>\n",
      "#include <unistd.h>\n",
      "#include <sys/wait.h>\n",
      "\n",
      "#define MAX_ARGS 3 // Command + 2 arguments\n",
      "\n",
      "int main() {\n",
      "    char input[100];\n",
      "    char *args[MAX_ARGS + 1]; // Array to hold command and arguments (+1 for NULL)\n",
      "    pid_t pid;\n",
      "\n",
      "    while (1) {\n",
      "        // Prompt the user for input\n",
      "        printf(\"myshell> \");\n",
      "        if (fgets(input, sizeof(input), stdin) == NULL) {\n",
      "            break; // Exit on EOF (Ctrl+D)\n",
      "        }\n",
      "\n",
      "        // Remove the newline character from the input\n",
      "        input[strcspn(input, \"\\n\")] = '\\0';\n",
      "\n",
      "        // Tokenize the input into command and arguments\n",
      "        int i = 0;\n",
      "        args[i] = strtok(input, \" \");\n",
      "        while (args[i] != NULL && i < MAX_ARGS) {\n",
      "            i++;\n",
      "            args[i] = strtok(NULL, \" \");\n",
      "        }\n",
      "        args[i] = NULL; // Last element must be NULL for execvp\n",
      "\n",
      "        // Check if the user entered a command\n",
      "        if (args[0] == NULL) {\n",
      "            continue; // Empty input, prompt again\n",
      "        }\n",
      "\n",
      "        // Create a child process to execute the command\n",
      "        pid = fork();\n",
      "        if (pid < 0) {\n",
      "            perror(\"fork\"); // Fork failed\n",
      "            exit(EXIT_FAILURE);\n",
      "        } else if (pid == 0) {\n",
      "            // Child process: Execute the command\n",
      "            execvp(args[0], args);\n",
      "            // If execvp returns, there was an error\n",
      "            perror(\"execvp\");\n",
      "            exit(EXIT_FAILURE);\n",
      "        } else {\n",
      "            // Parent process: Wait for the child to finish\n",
      "            wait(NULL);\n",
      "        }\n",
      "    }\n",
      "\n",
      "    return 0;\n",
      "}\n",
      "myshell> ^C\n"
     ]
    }
   ],
   "source": [
    "!./shell"
   ]
  },
  {
   "cell_type": "markdown",
   "metadata": {
    "id": "zG86fxJ8tWyH",
    "slideshow": {
     "slide_type": "slide"
    }
   },
   "source": [
    "The program runs in a loop, allowing the user to enter multiple commands until they exit. The program reads input from the user using `fgets()` and tokenizes into the command and its arguments using `strtok()`. The `fork()` system call creates a child process. The child process uses `execvp()` to replace its memory space with the specified command. If `execvp()` fails, an error message is printed. The parent process waits for the child process to finish using `wait()`."
   ]
  },
  {
   "cell_type": "markdown",
   "metadata": {
    "id": "oMGFQ9vTu3P-",
    "slideshow": {
     "slide_type": "slide"
    }
   },
   "source": [
    "The program supports commands with up to `2` arguments. If you need to support more arguments, increase the value of `MAX_ARGS`.  It does not handle complex shell features like piping (`|`), redirection (`>`, `<`), or background execution (`&`). For such features, you would need to extend the program."
   ]
  },
  {
   "cell_type": "markdown",
   "metadata": {
    "id": "_NWb033d5DPU",
    "slideshow": {
     "slide_type": "slide"
    }
   },
   "source": [
    "# Threading\n",
    "\n",
    "Threading is the creation and management of multiple units of execution within a single process. Threading is a significant source of programming error, through the introduction of data races and deadlocks. The topic of threading can — and indeed does — fill whole books.  We will cover the basics of the multithreading programming in C: Why use threads? What design patterns help us conceptualize and build threading applications? And, finally, what are data races and how can we prevent them?"
   ]
  },
  {
   "cell_type": "markdown",
   "metadata": {
    "id": "pR2xruwr7ROM",
    "slideshow": {
     "slide_type": "slide"
    }
   },
   "source": [
    "## Where threads can be used?\n",
    "\n",
    "- Threads are lightweight variants of the processes that share the memory space. You can create threads using the `pthread` library.\n",
    "\n",
    "  - **More efficient usage of the available computational resources**\n",
    "    - When a process waits for resources (e.g., reads from a periphery), it is blocked, and control is passed to another process\n",
    "    - Thread also waits, but another thread within the same process can utilize the dedicated time for the process execution\n",
    "    - Having multi-core processors, we can speedup the computation using more cores simultaneously by **parallel algorithms**\n",
    "  - **Handling asynchronous events**\n",
    "    - During blocked i/o operation, the processor can be utilized for other computational\n",
    "    - One thread can be dedicated for the i/o operations, e.g., per communication channel, another threads for computations\n",
    "  - **Context switching**\n",
    "    - The cost of switching from one thread to a different thread within the same process is significantly cheaper than process-to-process context switching.\n",
    "  - **Memory savings**\n",
    "    - Threads provide an efficient way to share memory yet utilize multiple units of execution. In this manner they are an alternative to multiple processes."
   ]
  },
  {
   "cell_type": "markdown",
   "metadata": {
    "id": "f8WgMZH28yBf",
    "slideshow": {
     "slide_type": "slide"
    }
   },
   "source": [
    "## Threads vs Processes\n",
    "\n",
    "| **Feature**          | **Processes** | **Threads** |\n",
    "|----------------------|--------------|-------------|\n",
    "| **Memory Space**     | Separate memory space | Shared memory space |\n",
    "| **Creation Overhead** | Higher (due to memory duplication) | Lower (shares memory with parent) |\n",
    "| **Communication**    | Requires IPC (e.g., pipes, shared memory, message queues) | Direct access to shared memory |\n",
    "| **Synchronization**  | Not needed (independent execution) | Required (e.g., mutex, semaphore, condition variables) |\n",
    "| **Execution Speed**  | Slower (context switching between processes is expensive) | Faster (lightweight, less context switching overhead) |\n",
    "| **Resource Sharing** | No sharing (each process has its own resources) | Shares code, data, and file descriptors within the process |\n",
    "| **Failure Impact**   | One process crash doesn’t affect others | Thread crash can affect the whole process |\n",
    "| **Example API**      | `fork()`, `exec()` in Unix/Linux | `pthread_create()` in POSIX threads |\n"
   ]
  },
  {
   "cell_type": "markdown",
   "metadata": {
    "id": "6osNKQF8BXDs",
    "slideshow": {
     "slide_type": "slide"
    }
   },
   "source": [
    "# Example 4: Creating threads"
   ]
  },
  {
   "cell_type": "code",
   "execution_count": 25,
   "metadata": {
    "colab": {
     "base_uri": "https://localhost:8080/"
    },
    "id": "FeIrbrrIu2qO",
    "outputId": "ddfc4dac-a701-4888-b305-6103e07a58c0"
   },
   "outputs": [
    {
     "name": "stdout",
     "output_type": "stream",
     "text": [
      "Writing threads.c\n"
     ]
    }
   ],
   "source": [
    "%%writefile threads.c\n",
    "\n",
    "#include <stdio.h>\n",
    "#include <pthread.h>\n",
    "\n",
    "// Function to be executed by the thread\n",
    "void* thread_function(void* arg) {\n",
    "    int thread_id = *(int*)arg;\n",
    "    printf(\"Hello from thread %d!\\n\", thread_id);\n",
    "    pthread_exit(NULL); // Exit the thread\n",
    "}\n",
    "\n",
    "int main() {\n",
    "    pthread_t threads[3]; // Array to hold thread IDs\n",
    "    int thread_args[3];   // Array to hold thread arguments\n",
    "\n",
    "    // Create 3 threads\n",
    "    for (int i = 0; i < 3; i++) {\n",
    "        thread_args[i] = i;\n",
    "        int result = pthread_create(&threads[i], NULL, thread_function, &thread_args[i]);\n",
    "        if (result != 0) {\n",
    "            fprintf(stderr, \"Error creating thread %d\\n\", i);\n",
    "            return 1;\n",
    "        }\n",
    "    }\n",
    "\n",
    "    // Wait for all threads to finish\n",
    "    for (int i = 0; i < 3; i++) {\n",
    "        pthread_join(threads[i], NULL);\n",
    "    }\n",
    "\n",
    "    printf(\"All threads have finished execution.\\n\");\n",
    "    return 0;\n",
    "}"
   ]
  },
  {
   "cell_type": "code",
   "execution_count": 26,
   "metadata": {
    "id": "8wENEPceBB7H",
    "slideshow": {
     "slide_type": "slide"
    }
   },
   "outputs": [],
   "source": [
    "%%script bash\n",
    "gcc threads.c -o threads"
   ]
  },
  {
   "cell_type": "code",
   "execution_count": 27,
   "metadata": {
    "colab": {
     "base_uri": "https://localhost:8080/"
    },
    "id": "7IXzqDs6BHzX",
    "outputId": "1db96e2b-7578-4ad0-e80c-0357a5620bdf"
   },
   "outputs": [
    {
     "name": "stdout",
     "output_type": "stream",
     "text": [
      "Hello from thread 0!\n",
      "Hello from thread 1!\n",
      "Hello from thread 2!\n",
      "All threads have finished execution.\n"
     ]
    }
   ],
   "source": [
    "!./threads"
   ]
  },
  {
   "cell_type": "markdown",
   "metadata": {
    "id": "sIvPWmCvDU9X",
    "slideshow": {
     "slide_type": "slide"
    }
   },
   "source": [
    "`pthread_create()` creates a new thread. The thread executes the function passed as the third argument (`thread_function` in this case).\n",
    "\n",
    "`pthread_join()` waits for the thread to finish execution.\n",
    "\n",
    "Threads share the same memory space, so they can access global variables and heap memory."
   ]
  },
  {
   "cell_type": "markdown",
   "metadata": {
    "id": "F0Sm36JsD7X-",
    "slideshow": {
     "slide_type": "slide"
    }
   },
   "source": [
    "# Example 5: Synchronization in multi-threading\n",
    "\n",
    "When multiple threads access shared resources, synchronization is required to avoid race conditions.\n"
   ]
  },
  {
   "cell_type": "code",
   "execution_count": 28,
   "metadata": {
    "colab": {
     "base_uri": "https://localhost:8080/"
    },
    "id": "vnPuKCb1BK2D",
    "outputId": "821afaf5-4920-4fbb-efd4-cef077d3a32d"
   },
   "outputs": [
    {
     "name": "stdout",
     "output_type": "stream",
     "text": [
      "Writing synchronization.c\n"
     ]
    }
   ],
   "source": [
    "%%writefile synchronization.c\n",
    "\n",
    "#include <stdio.h>\n",
    "#include <pthread.h>\n",
    "\n",
    "int shared_counter = 0;\n",
    "pthread_mutex_t mutex = PTHREAD_MUTEX_INITIALIZER;\n",
    "\n",
    "void* thread_function(void* arg) {\n",
    "    for (int i = 0; i < 100000; i++) {\n",
    "        pthread_mutex_lock(&mutex); // Lock the mutex\n",
    "        shared_counter++;           // Critical section\n",
    "        pthread_mutex_unlock(&mutex); // Unlock the mutex\n",
    "    }\n",
    "    pthread_exit(NULL);\n",
    "}\n",
    "\n",
    "int main() {\n",
    "    pthread_t threads[2];\n",
    "\n",
    "    // Create 2 threads\n",
    "    for (int i = 0; i < 2; i++) {\n",
    "        pthread_create(&threads[i], NULL, thread_function, NULL);\n",
    "    }\n",
    "\n",
    "    // Wait for threads to finish\n",
    "    for (int i = 0; i < 2; i++) {\n",
    "        pthread_join(threads[i], NULL);\n",
    "    }\n",
    "\n",
    "    printf(\"Final value of shared_counter: %d\\n\", shared_counter);\n",
    "    return 0;\n",
    "}"
   ]
  },
  {
   "cell_type": "code",
   "execution_count": 29,
   "metadata": {
    "id": "D5lJzFYTEghy",
    "slideshow": {
     "slide_type": "slide"
    }
   },
   "outputs": [],
   "source": [
    "%%script bash\n",
    "gcc synchronization.c -o synchronization"
   ]
  },
  {
   "cell_type": "code",
   "execution_count": 30,
   "metadata": {
    "colab": {
     "base_uri": "https://localhost:8080/"
    },
    "id": "-7MSu3rZElRB",
    "outputId": "7c8716b2-2fc9-465c-9cdd-93d6ef545a92"
   },
   "outputs": [
    {
     "name": "stdout",
     "output_type": "stream",
     "text": [
      "Final value of shared_counter: 200000\n"
     ]
    }
   ],
   "source": [
    "!./synchronization"
   ]
  },
  {
   "cell_type": "markdown",
   "metadata": {
    "id": "KNmj0wBLGf7g",
    "slideshow": {
     "slide_type": "slide"
    }
   },
   "source": [
    "   A mutex is used to ensure that only one thread can access the `shared_counter` at a time. Without synchronization, the final value of `shared_counter` might be incorrect due to race conditions."
   ]
  },
  {
   "cell_type": "markdown",
   "metadata": {
    "id": "8P-hP7mWGr-9",
    "slideshow": {
     "slide_type": "slide"
    }
   },
   "source": [
    "# Example 6: Multi-threading without synchronization"
   ]
  },
  {
   "cell_type": "code",
   "execution_count": 31,
   "metadata": {
    "colab": {
     "base_uri": "https://localhost:8080/"
    },
    "id": "bPDvTzykGoXd",
    "outputId": "7dd34a69-9a89-43d9-b4cb-9903a49218be"
   },
   "outputs": [
    {
     "name": "stdout",
     "output_type": "stream",
     "text": [
      "Writing without-synchronization.c\n"
     ]
    }
   ],
   "source": [
    "%%writefile without-synchronization.c\n",
    "\n",
    "#include <stdio.h>\n",
    "#include <pthread.h>\n",
    "\n",
    "int shared_counter = 0;\n",
    "\n",
    "void* thread_function(void* arg) {\n",
    "    for (int i = 0; i < 100000; i++) {\n",
    "        shared_counter++; // Critical section (no synchronization)\n",
    "    }\n",
    "    pthread_exit(NULL);\n",
    "}\n",
    "\n",
    "int main() {\n",
    "    pthread_t threads[2];\n",
    "\n",
    "    // Create 2 threads\n",
    "    for (int i = 0; i < 2; i++) {\n",
    "        pthread_create(&threads[i], NULL, thread_function, NULL);\n",
    "    }\n",
    "\n",
    "    // Wait for threads to finish\n",
    "    for (int i = 0; i < 2; i++) {\n",
    "        pthread_join(threads[i], NULL);\n",
    "    }\n",
    "\n",
    "    printf(\"Final value of shared_counter: %d\\n\", shared_counter);\n",
    "    return 0;\n",
    "}"
   ]
  },
  {
   "cell_type": "code",
   "execution_count": 37,
   "metadata": {
    "colab": {
     "base_uri": "https://localhost:8080/"
    },
    "id": "SPn5ApOTHBsa",
    "outputId": "ff1f9763-f8be-4a61-f92f-22b18b95d90f",
    "slideshow": {
     "slide_type": "slide"
    }
   },
   "outputs": [
    {
     "name": "stdout",
     "output_type": "stream",
     "text": [
      "Final value of shared_counter: 136942\n"
     ]
    }
   ],
   "source": [
    "%%script bash\n",
    "gcc without-synchronization.c -o without-synchronization\n",
    "./without-synchronization"
   ]
  },
  {
   "cell_type": "markdown",
   "metadata": {
    "id": "HngdFUwDHunA",
    "slideshow": {
     "slide_type": "slide"
    }
   },
   "source": [
    "Since each thread increments shared_counter `100 000` times, the expected final value is `200 000`. However, due to the race condition, the final value will likely be less than `200 000`."
   ]
  },
  {
   "cell_type": "markdown",
   "metadata": {
    "id": "-e1qq4r9P4NJ",
    "slideshow": {
     "slide_type": "slide"
    }
   },
   "source": [
    "## Race Condition\n",
    "\n",
    "The operation `shared_counter++` is not atomic. It involves three steps:\n",
    "\n",
    "\n",
    "1.   Read the current value of `shared_counter`.\n",
    "2.   Increment the value\n",
    "3.   Write the new value back to `shared_counter`.\n",
    "\n",
    "Without synchronization, both threads can simultaneously read the same value, increment it, and write back the same result, causing lost updates.\n",
    "\n"
   ]
  }
 ],
 "metadata": {
  "celltoolbar": "Slideshow",
  "colab": {
   "provenance": []
  },
  "kernelspec": {
   "display_name": "Python 3 (ipykernel)",
   "language": "python",
   "name": "python3"
  },
  "language_info": {
   "codemirror_mode": {
    "name": "ipython",
    "version": 3
   },
   "file_extension": ".py",
   "mimetype": "text/x-python",
   "name": "python",
   "nbconvert_exporter": "python",
   "pygments_lexer": "ipython3",
   "version": "3.9.12"
  }
 },
 "nbformat": 4,
 "nbformat_minor": 1
}
