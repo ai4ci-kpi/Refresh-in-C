{
  "cells": [
    {
      "cell_type": "markdown",
      "metadata": {
        "id": "view-in-github"
      },
      "source": [
        "<a href=\"https://colab.research.google.com/github/ai4ci-kpi/Refresh-in-C/blob/main/Lecture_3_File_Access_and_Pipes.ipynb\" target=\"_parent\"><img src=\"https://colab.research.google.com/assets/colab-badge.svg\" alt=\"Open In Colab\"/></a>"
      ]
    },
    {
      "cell_type": "markdown",
      "metadata": {
        "id": "qtO3gQ5H6XA0"
      },
      "source": [
        "\n",
        "\n",
        "<img src=\"https://github.com/ai4ci-kpi/Refresh-in-C/blob/main/img/c-language-logo-simple.png?raw=true\" alt=\"Test Image\" width=\"100\"/>\n",
        "\n"
      ]
    },
    {
      "cell_type": "markdown",
      "metadata": {
        "id": "PLX0uS29NOhE"
      },
      "source": [
        "# Introduction\n",
        "Today, we’ll dive into the core principles of signals in C:\n",
        "\n",
        "   * Understanding how signals work and their role in process management.\n",
        "   * Understanding how to send, handle, and block signals using standard signal functions.\n",
        "   * How signals enable asynchronous communication between processes.\n",
        "\n",
        "Understanding signals in C is crucial because they allow programs to handle asynchronous events, manage processes, and respond to system interrupts efficiently.\n",
        "\n",
        "\n",
        "---\n",
        "\n",
        "\n"
      ]
    },
    {
      "cell_type": "markdown",
      "source": [
        "# Signals\n",
        "\n",
        "C, as a language, does not inherently define signals but provides a standard library interface (via `<signal.h>`) to work with OS-level signals. Signals in C are a standardized subset of the broader Linux signal system. The C standard defines a subset of signals, including `SIGABRT`, `SIGFPE`, `SIGILL`, `SIGINT`, `SIGSEGV`, and `SIGTERM`."
      ],
      "metadata": {
        "id": "NEATbUHc6WV4"
      }
    },
    {
      "cell_type": "markdown",
      "source": [
        "**Signals** are software interrupts that provide a mechanism for handling asynchronous events. These events can originate from outside the system, such as when the user generates the interrupt character by pressing `Ctrl-C`, or from activities within the program or kernel, such as when the process executes code that divides by zero. As a primitive form of interprocess communication (IPC), one process can also send a signal to another process."
      ],
      "metadata": {
        "id": "dkHvf2q78sSO"
      }
    },
    {
      "cell_type": "markdown",
      "source": [
        "The key point is not just that the events occur asynchronously — the user, for example, can press `Ctrl-C` at any point in the program’s execution — but also that the program handles the signals asynchronously. The signal-handling functions are registered with the kernel, which invokes the functions asynchronously from the rest of the program when the signals are delivered."
      ],
      "metadata": {
        "id": "K2SE01Wx9G6v"
      }
    },
    {
      "cell_type": "markdown",
      "source": [
        "Signals have been part of Unix since the early days. Over time, however, they have evolved, most noticeably in terms of reliability, as signals once could get lost, and in terms of functionality, as signals may now carry user-defined payloads. At first, different Unix systems made incompatible changes to signals. Thankfully, POSIX came to the rescue and standardized signal handling. This standard is what Linux provides."
      ],
      "metadata": {
        "id": "P4laDNok_gnT"
      }
    },
    {
      "cell_type": "markdown",
      "source": [
        "Most nontrivial applications interact with signals. Even if you deliberately design your application to not rely on signals for its communication needs — often a good idea! — you’ll still be forced to work with signals in certain cases, such as when handling program termination."
      ],
      "metadata": {
        "id": "GOcs2Iw9CQHh"
      }
    },
    {
      "cell_type": "markdown",
      "source": [
        "# Signal Concepts\n",
        "\n",
        "**Signals** have a very precise lifecycle. First, a signal is `raised` (we sometimes also say it is *sent* or *generated*). The kernel then stores the signal until it is able to deliver it. Finally, once it is free to do so, the kernel handles the signal as appropriate. The kernel can perform one of three actions, depending on what the process asked it to do:"
      ],
      "metadata": {
        "id": "0kwP0Y75CX8X"
      }
    },
    {
      "cell_type": "markdown",
      "source": [
        "### Ignore the signal\n",
        "\n",
        "No action is taken. There are two signals that cannot be ignored: `SIGKILL` and\n",
        "`SIGSTOP`. The reason for this is that the system administrator needs to be able to kill or stop processes, and it would be a circumvention of that right if a process could elect to ignore a `SIGKILL` (making it unkillable) or a `SIGSTOP` (making it unstoppable)."
      ],
      "metadata": {
        "id": "l9kkZfbGCybD"
      }
    },
    {
      "cell_type": "markdown",
      "source": [
        "### Catch and handle the signal\n",
        "\n",
        "The kernel will suspend execution of the process’s current code path and jump to\n",
        "a previously registered function. The process will then execute this function. Once the process returns from this function, it will jump back to wherever it was when it caught the signal. `SIGINT` and `SIGTERM` are two commonly caught signals. Processes catch `SIGINT` to handle the user generating the interrupt character — for example, a terminal might catch this signal and return to the main prompt. Processes catch `SIGTERM` to perform necessary cleanup, such as disconnecting from the network or removing temporary files, before terminating. `SIGKILL` and `SIGSTOP` cannot be caught."
      ],
      "metadata": {
        "id": "70d3b6yGDIRs"
      }
    },
    {
      "cell_type": "markdown",
      "source": [
        "### Perform the default action\n",
        "\n",
        "This action depends on the signal being sent. The default action is often to terminate the process. This is the case with `SIGKILL`, for instance. However, many signals are provided for specific purposes that concern programmers in particular situations, and these signals are ignored by default because many programs are not interested in them. We will look at the various signals and their default actions shortly."
      ],
      "metadata": {
        "id": "OH0GN-1rE1Tw"
      }
    },
    {
      "cell_type": "markdown",
      "source": [
        "Traditionally, when a signal was delivered, the function that handled the signal had no information about what had happened except for the fact that the particular signal had occurred. Nowadays, the kernel can provide a lot of context to programmers who wish to receive it. Signals can even pass user-defined data."
      ],
      "metadata": {
        "id": "hmn1Fe3ZGBin"
      }
    },
    {
      "cell_type": "markdown",
      "source": [
        "# Signal Identifiers\n",
        "\n",
        "Every signal has a symbolic name that starts with the prefix `SIG`. For example, `SIGINT` is the signal sent when the user presses `Ctrl-C`, `SIGABRT` is the signal sent when the process calls the `abort()` function, and `SIGKILL` is the signal sent when a process is forcefully terminated.\n",
        "\n",
        "These signals are all defined in a header file included from [`<signal.h>`](https://man7.org/linux/man-pages/man0/signal.h.0p.html). The signals are simply preprocessor definitions that represent positive integers — that is, every signal is also associated with an integer identifier. The name-to-integer mapping for the signals is implementation-dependent and varies among Unix systems, although the first dozen or so signals are usually mapped the same way (`SIGKILL` is infamously signal `9` for example). A portable program will always use a signal’s human-readable name, and never its integer value."
      ],
      "metadata": {
        "id": "vdH5jWaNGdv-"
      }
    },
    {
      "cell_type": "markdown",
      "source": [
        "The signal numbers start at `1` (generally `SIGHUP`) and proceed linearly upward. There are about `31` signals in total, but most programs deal regularly with only a handful of them. There is no signal with the value `0`, which is a special value known as the `null` signal. There’s really nothing important about the `null` signal — it doesn’t deserve a special name — but some system calls (such as `kill()`) use a value of `0` as a special case.\n",
        "\n",
        "\n",
        "\n",
        "> You can generate a list of signals supported on your system with the command `kill -l`\n",
        "\n"
      ],
      "metadata": {
        "id": "bLeK0tisIjEr"
      }
    },
    {
      "cell_type": "markdown",
      "source": [
        "The table listing the signals that Linux supports, along with their descriptions and default actions:\n",
        "\n",
        "| Signal   | Description                                      | Default Action  |\n",
        "|----------|--------------------------------------------------|----------------|\n",
        "| SIGHUP   | Hangup detected on controlling terminal         | Terminate      |\n",
        "| SIGINT   | Interrupt from keyboard (Ctrl+C)               | Terminate      |\n",
        "| SIGQUIT  | Quit from keyboard (Ctrl+\\)                    | Core dump      |\n",
        "| SIGILL   | Illegal instruction                            | Core dump      |\n",
        "| SIGABRT  | Abnormal termination (abort)                   | Core dump      |\n",
        "| SIGFPE   | Floating-point exception                       | Core dump      |\n",
        "| SIGKILL  | Kill signal (cannot be caught or ignored)      | Terminate      |\n",
        "| SIGSEGV  | Segmentation fault (invalid memory access)     | Core dump      |\n",
        "| SIGPIPE  | Broken pipe (write to a closed pipe)           | Terminate      |\n",
        "| SIGALRM  | Alarm clock signal                             | Terminate      |\n",
        "| SIGTERM  | Termination signal                             | Terminate      |\n",
        "| SIGUSR1  | User-defined signal 1                          | Terminate      |\n",
        "| SIGUSR2  | User-defined signal 2                          | Terminate      |\n",
        "| SIGCHLD  | Child process terminated, stopped, or resumed | Ignore         |\n",
        "| SIGCONT  | Continue if stopped                            | Continue       |\n",
        "| SIGSTOP  | Stop process (cannot be caught or ignored)    | Stop           |\n",
        "| SIGTSTP  | Stop typed at terminal (Ctrl+Z)               | Stop           |\n",
        "| SIGTTIN  | Background process attempts read from terminal| Stop           |\n",
        "| SIGTTOU  | Background process attempts write to terminal | Stop           |\n",
        "| SIGBUS   | Bus error (bad memory access)                 | Core dump      |\n",
        "| SIGPOLL  | Pollable event (Sys V signal)                 | Terminate      |\n",
        "| SIGPROF  | Profiling timer expired                       | Terminate      |\n",
        "| SIGSYS   | Bad system call                               | Core dump      |\n",
        "| SIGTRAP  | Trace/breakpoint trap                         | Core dump      |\n",
        "| SIGURG   | Urgent condition on socket                    | Ignore         |\n",
        "| SIGVTALRM| Virtual alarm clock                          | Terminate      |\n",
        "| SIGXCPU  | CPU time limit exceeded                      | Core dump      |\n",
        "| SIGXFSZ  | File size limit exceeded                     | Core dump      |\n",
        "| SIGWINCH | Window resize signal                         | Ignore         |\n",
        "| SIGIO    | I/O now possible                             | Terminate      |\n",
        "| SIGPWR   | Power failure/restart                        | Terminate      |\n",
        "| SIGSTKFLT| Stack fault on coprocessor                   | Terminate      |\n",
        "| SIGRTMIN | First real-time signal                       | Varies         |\n",
        "| SIGRTMAX | Last real-time signal                        | Varies         |\n"
      ],
      "metadata": {
        "id": "j5LhkXi2KKJr"
      }
    },
    {
      "cell_type": "markdown",
      "source": [
        "# Basic Signal Management\n",
        "\n",
        "With the signals out of the way, we’ll now turn to how you manage them from within your program. The simplest and oldest interface for signal management is the `signal()` function. Defined by the `ISO C89` standard, which standardizes only the lowest common denominator of signal support, this system call is very basic. Linux offers substantially more control over signals via other interfaces. Because `signal()` is the most basic and, thanks to its presence in `ISO C`, quite common.\n"
      ],
      "metadata": {
        "id": "nnuO9UETPszp"
      }
    },
    {
      "cell_type": "markdown",
      "metadata": {
        "id": "AzdiYPm02IAu"
      },
      "source": [
        "## Example 1: Handling Signals with `signal()`\n",
        "\n",
        "`signal()` takes two parameters:\n",
        "* The signal number for which the handler is being set (e.g. `SIGINT`, `SIGTERM`, `SIGALRM` etc.)\n",
        "* A pointer to the signal handler function.\n",
        "\n",
        "The `signal()` function returns the previous handler for the signal, or `SIG_ERR` if an error occurs."
      ]
    },
    {
      "cell_type": "code",
      "execution_count": 1,
      "metadata": {
        "colab": {
          "base_uri": "https://localhost:8080/"
        },
        "id": "yRNUMXhi3UKh",
        "outputId": "89b74b7c-5e42-4be9-e4e8-c8d86f5640fc"
      },
      "outputs": [
        {
          "output_type": "stream",
          "name": "stdout",
          "text": [
            "Overwriting signal.c\n"
          ]
        }
      ],
      "source": [
        "%%writefile signal.c\n",
        "\n",
        "#include <stdio.h>\n",
        "#include <signal.h>\n",
        "#include <unistd.h>\n",
        "#include <stdlib.h>\n",
        "\n",
        "// Signal handler function for SIGINT\n",
        "void handle_sigint(int sig) {\n",
        "    printf(\"\\nCaught SIGINT (Signal number: %d). Exiting...\\n\", sig);\n",
        "    exit(0); // Exit the program after handling the signal\n",
        "}\n",
        "\n",
        "int main() {\n",
        "    // Register the signal handler for SIGINT\n",
        "    signal(SIGINT, handle_sigint);\n",
        "\n",
        "    // Print instructions once\n",
        "    printf(\"Running... Press Ctrl+C to exit.\\n\");\n",
        "    printf(\"In Google Colab, press Ctrl+M I to interrupt.\\n\");\n",
        "\n",
        "    // Infinite loop to keep the program running\n",
        "    while (1) {\n",
        "        printf(\"Running...\\n\");\n",
        "        sleep(1);\n",
        "    }\n",
        "\n",
        "    return 0;\n",
        "}"
      ]
    },
    {
      "cell_type": "code",
      "execution_count": 2,
      "metadata": {
        "id": "FoCEfHrC2qqj"
      },
      "outputs": [],
      "source": [
        "%%script bash\n",
        "gcc signal.c -o signal"
      ]
    },
    {
      "cell_type": "code",
      "source": [
        "!./signal"
      ],
      "metadata": {
        "colab": {
          "base_uri": "https://localhost:8080/"
        },
        "id": "w-K88LmNXdv3",
        "outputId": "1e26caec-d8d2-4110-b79f-2dd857b8c7ac"
      },
      "execution_count": 3,
      "outputs": [
        {
          "output_type": "stream",
          "name": "stdout",
          "text": [
            "Running... Press Ctrl+C to exit.\n",
            "In Google Colab, press Ctrl+M I to interrupt.\n",
            "Running...\n",
            "Running...\n",
            "Running...\n",
            "Running...\n",
            "Running...\n",
            "Running...\n",
            "\n",
            "Caught SIGINT (Signal number: 2). Exiting...\n"
          ]
        }
      ]
    },
    {
      "cell_type": "markdown",
      "source": [
        "\n",
        "The `exit` function is declared in `<stdlib.h>`, so this header file must be included to use `exit`.\n",
        "\n",
        "When we run the program, it prints the instructions once and then enters an infinite loop, printing \"`Working...`\" every second.\n",
        "\n",
        "In Google Colab, the terminal interrupt key combination is `Ctrl+M I` instead of `Ctrl+C`. This is why the message specifically mentions Colab.\n",
        "\n",
        "If you press `Ctrl+C` (or `Ctrl+M I` in Google Colab), the `SIGINT` signal is sent to the program, and the `handle_sigint` function is executed.\n",
        "\n",
        "The program prints \"`Caught SIGINT (Signal number: 2). Exiting...`\" and then terminates.\n",
        "\n"
      ],
      "metadata": {
        "id": "lmAKGdJVYsjn"
      }
    },
    {
      "cell_type": "markdown",
      "source": [
        "## Example 2: Ignoring a Signal"
      ],
      "metadata": {
        "id": "KyXneOAbk2Mz"
      }
    },
    {
      "cell_type": "code",
      "source": [
        "%%writefile ignor.c\n",
        "\n",
        "#include <stdio.h>\n",
        "#include <signal.h>\n",
        "#include <unistd.h>\n",
        "\n",
        "int main() {\n",
        "    signal(SIGINT, SIG_IGN);  // SIG_IGN tells the system to ignore SIGINT.\n",
        "\n",
        "    while (1) {\n",
        "        printf(\"SIGINT (Ctrl+C) is ignored. Press Ctrl+Z to stop.\\n\");\n",
        "        sleep(2);\n",
        "    }\n",
        "\n",
        "    return 0;\n",
        "}"
      ],
      "metadata": {
        "colab": {
          "base_uri": "https://localhost:8080/"
        },
        "id": "QHZPpTWch4TW",
        "outputId": "ed556c90-8eb9-4d88-f41e-19f0d43e70f5"
      },
      "execution_count": 4,
      "outputs": [
        {
          "output_type": "stream",
          "name": "stdout",
          "text": [
            "Overwriting ignor.c\n"
          ]
        }
      ]
    },
    {
      "cell_type": "code",
      "source": [
        "%%script bash\n",
        "gcc ignor.c -o ignor"
      ],
      "metadata": {
        "id": "jxII1Fl9h-Mn"
      },
      "execution_count": 5,
      "outputs": []
    },
    {
      "cell_type": "code",
      "source": [
        "!./ignor"
      ],
      "metadata": {
        "colab": {
          "base_uri": "https://localhost:8080/"
        },
        "id": "wrDIHbaOiDvU",
        "outputId": "2a9bdf49-52a1-409a-c51d-549b3d7c4bb3"
      },
      "execution_count": 6,
      "outputs": [
        {
          "output_type": "stream",
          "name": "stdout",
          "text": [
            "SIGINT (Ctrl+C) is ignored. Press Ctrl+Z to stop.\n",
            "SIGINT (Ctrl+C) is ignored. Press Ctrl+Z to stop.\n",
            "SIGINT (Ctrl+C) is ignored. Press Ctrl+Z to stop.\n",
            "SIGINT (Ctrl+C) is ignored. Press Ctrl+Z to stop.\n",
            "SIGINT (Ctrl+C) is ignored. Press Ctrl+Z to stop.\n",
            "^C\n"
          ]
        }
      ]
    },
    {
      "cell_type": "markdown",
      "source": [
        "## Example 3: Handling Signals with `signal()`"
      ],
      "metadata": {
        "id": "XjZEBmBWhjyF"
      }
    },
    {
      "cell_type": "code",
      "source": [
        "%%writefile sigaction.c\n",
        "\n",
        "#include <stdio.h>\n",
        "#include <signal.h>\n",
        "#include <unistd.h>\n",
        "#include <stdlib.h>\n",
        "#include <string.h>\n",
        "\n",
        "// Signal handler function for SIGINT\n",
        "void handle_sigint(int sig, siginfo_t *info, void *context) {\n",
        "    printf(\"\\nCaught SIGINT (Signal number: %d). Exiting...\\n\", sig);\n",
        "    printf(\"Sender PID: %d, User ID: %d\\n\", info->si_pid, info->si_uid);\n",
        "    exit(0); // Exit the program after handling the signal\n",
        "}\n",
        "\n",
        "int main() {\n",
        "    struct sigaction sa;\n",
        "\n",
        "    // Clear the structure\n",
        "    memset(&sa, 0, sizeof(sa));\n",
        "\n",
        "    // Set the handler function\n",
        "    sa.sa_sigaction = handle_sigint;\n",
        "\n",
        "    // Use the SA_SIGINFO flag to get additional information\n",
        "    sa.sa_flags = SA_SIGINFO;\n",
        "\n",
        "    // Register the signal handler for SIGINT\n",
        "    if (sigaction(SIGINT, &sa, NULL) == -1) {\n",
        "        perror(\"sigaction\");\n",
        "        exit(EXIT_FAILURE);\n",
        "    }\n",
        "\n",
        "    // Print instructions\n",
        "    printf(\"Running... Press Ctrl+C to exit.\\n\");\n",
        "    printf(\"In Google Colab, press Ctrl+M I to interrupt.\\n\");\n",
        "\n",
        "    // Infinite loop to keep the program running\n",
        "    while (1) {\n",
        "        printf(\"Working...\\n\");\n",
        "        sleep(1);\n",
        "    }\n",
        "\n",
        "    return 0;\n",
        "}"
      ],
      "metadata": {
        "colab": {
          "base_uri": "https://localhost:8080/"
        },
        "id": "M34T4JI6hIEP",
        "outputId": "bb680c93-eeef-48bf-a3e6-36665c2fc4bc"
      },
      "execution_count": 7,
      "outputs": [
        {
          "output_type": "stream",
          "name": "stdout",
          "text": [
            "Overwriting sigaction.c\n"
          ]
        }
      ]
    },
    {
      "cell_type": "code",
      "source": [
        "%%script bash\n",
        "gcc sigaction.c -o sigaction"
      ],
      "metadata": {
        "id": "qKYsY0Pidxhj"
      },
      "execution_count": 8,
      "outputs": []
    },
    {
      "cell_type": "code",
      "source": [
        "!./sigaction"
      ],
      "metadata": {
        "colab": {
          "base_uri": "https://localhost:8080/"
        },
        "id": "DoiVfcLJd6xR",
        "outputId": "36e89095-e5eb-4db9-9b57-80aa5cd73b7f"
      },
      "execution_count": 9,
      "outputs": [
        {
          "output_type": "stream",
          "name": "stdout",
          "text": [
            "Running... Press Ctrl+C to exit.\n",
            "In Google Colab, press Ctrl+M I to interrupt.\n",
            "Working...\n",
            "Working...\n",
            "Working...\n",
            "Working...\n",
            "Working...\n",
            "Working...\n",
            "Working...\n",
            "Working...\n",
            "Working...\n",
            "Working...\n",
            "Working...\n",
            "Working...\n",
            "Working...\n",
            "Working...\n",
            "Working...\n",
            "Working...\n",
            "Working...\n",
            "Working...\n",
            "\n",
            "Caught SIGINT (Signal number: 2). Exiting...\n",
            "Sender PID: 92, User ID: 0\n"
          ]
        }
      ]
    },
    {
      "cell_type": "markdown",
      "source": [
        "`struct sigaction` is used to specify the behavior of the signal handler.\n",
        "`sa.sa_sigaction` is set to the handler function (`handle_sigint`).\n",
        "\n",
        "The `handle_sigint` receives the signal number (`sig`), a pointer to a `siginfo_t` structure (`info`), and a `void` pointer (`context`). The `siginfo_t` structure contains additional information, such as the sender's PID (`si_pid`) and user ID (`si_uid`)."
      ],
      "metadata": {
        "id": "bwM7IG9ulWH2"
      }
    },
    {
      "cell_type": "markdown",
      "source": [
        "The `sigaction(SIGINT, &sa, NULL)` call registers the signal handler for `SIGINT`. If the registration fails, `perror` is used to print an error message, and the program exits with a failure status."
      ],
      "metadata": {
        "id": "jggQDtgfnJvq"
      }
    },
    {
      "cell_type": "markdown",
      "source": [
        "The program prints \"`Working...`\" every second to indicate that it is running. The loop continues until the user interrupts the program with `Ctrl+C` (or `Ctrl+M I` in Google Colab).\n",
        "\n",
        "When the signal is received, the handler prints a message, including the sender's PID and user ID, and then exits the program using `exit(0)`."
      ],
      "metadata": {
        "id": "mMan6ZguncNX"
      }
    }
  ],
  "metadata": {
    "celltoolbar": "Slideshow",
    "colab": {
      "provenance": []
    },
    "kernelspec": {
      "display_name": "Python 3 (ipykernel)",
      "language": "python",
      "name": "python3"
    },
    "language_info": {
      "codemirror_mode": {
        "name": "ipython",
        "version": 3
      },
      "file_extension": ".py",
      "mimetype": "text/x-python",
      "name": "python",
      "nbconvert_exporter": "python",
      "pygments_lexer": "ipython3",
      "version": "3.10.12"
    }
  },
  "nbformat": 4,
  "nbformat_minor": 0
}