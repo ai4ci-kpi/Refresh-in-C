{
  "nbformat": 4,
  "nbformat_minor": 0,
  "metadata": {
    "colab": {
      "provenance": []
    },
    "kernelspec": {
      "name": "python3",
      "display_name": "Python 3"
    },
    "language_info": {
      "name": "python"
    }
  },
  "cells": [
    {
      "cell_type": "markdown",
      "source": [
        "<a href=\"https://colab.research.google.com/github/ai4ci-kpi/Refresh-in-C/blob/main/exercises/Signals_and_return_values.ipynb\" target=\"_parent\"><img src=\"https://colab.research.google.com/assets/colab-badge.svg\" alt=\"Open In Colab\"/></a>"
      ],
      "metadata": {
        "id": "JxyLrY2QFQRn"
      }
    },
    {
      "cell_type": "markdown",
      "source": [
        "#  Signals and return values"
      ],
      "metadata": {
        "id": "vhsA0Mq-kqQ4"
      }
    },
    {
      "cell_type": "markdown",
      "source": [
        "## Exercise 1.1 Send a signal to a process\n",
        "\n",
        "Write a C program that uses the `kill()` function to send a signal (e.g., `SIGUSR1`) from one process to another. The receiving process should handle the signal and print a message.\n",
        "\n",
        "\n"
      ],
      "metadata": {
        "id": "40nf1B1Nojyy"
      }
    },
    {
      "cell_type": "markdown",
      "source": [
        "### Solution"
      ],
      "metadata": {
        "id": "TH52JZyDEg6m"
      }
    },
    {
      "cell_type": "code",
      "source": [
        "%%writefile send-signal.c\n",
        "\n",
        "// Write your code here\n",
        "\n"
      ],
      "metadata": {
        "colab": {
          "base_uri": "https://localhost:8080/"
        },
        "id": "e6BpsC4uqAHr",
        "outputId": "05ef1ebc-b551-4187-9ba1-59663877d132"
      },
      "execution_count": 1,
      "outputs": [
        {
          "output_type": "stream",
          "name": "stdout",
          "text": [
            "Writing send-signal.c\n"
          ]
        }
      ]
    },
    {
      "cell_type": "code",
      "source": [
        "%%script bash\n",
        "gcc send-signal.c -o send-signal\n",
        "./send-signal"
      ],
      "metadata": {
        "id": "WbDVfAIIqQMA"
      },
      "execution_count": null,
      "outputs": []
    },
    {
      "cell_type": "markdown",
      "source": [
        "## Exercise 1.2 Handle multiple signals\n",
        "\n",
        "Write a C program that registers a single signal handler for two different signals (`SIGUSR1` and `SIGUSR2`). Inside the signal handler, differentiate between the signals and perform different actions based on which signal was received.\n",
        "\n",
        "\n"
      ],
      "metadata": {
        "id": "lP9ZsaIUldQL"
      }
    },
    {
      "cell_type": "markdown",
      "source": [
        "### Solution"
      ],
      "metadata": {
        "id": "x5yIgzUtE6Rk"
      }
    },
    {
      "cell_type": "code",
      "execution_count": 2,
      "metadata": {
        "colab": {
          "base_uri": "https://localhost:8080/"
        },
        "id": "zxDIj2Liklnz",
        "outputId": "4523208d-53c9-4497-e12d-d49fde28078e"
      },
      "outputs": [
        {
          "output_type": "stream",
          "name": "stdout",
          "text": [
            "Writing multiple-signals.c\n"
          ]
        }
      ],
      "source": [
        "%%writefile multiple-signals.c\n",
        "\n",
        "// Write your code here\n",
        "\n"
      ]
    },
    {
      "cell_type": "code",
      "source": [
        "%%script bash\n",
        "gcc multiple-signals.c -o multiple-signals\n",
        "./multiple-signals"
      ],
      "metadata": {
        "id": "lDPa3sUtmZw-"
      },
      "execution_count": null,
      "outputs": []
    }
  ]
}