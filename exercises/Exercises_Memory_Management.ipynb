{
  "nbformat": 4,
  "nbformat_minor": 0,
  "metadata": {
    "colab": {
      "provenance": []
    },
    "kernelspec": {
      "name": "python3",
      "display_name": "Python 3"
    },
    "language_info": {
      "name": "python"
    }
  },
  "cells": [
    {
      "cell_type": "markdown",
      "source": [
        "<a href=\"https://colab.research.google.com/github/ai4ci-kpi/Refresh-in-C/blob/main/exercises/Exercises_Memory_Management.ipynb\" target=\"_parent\"><img src=\"https://colab.research.google.com/assets/colab-badge.svg\" alt=\"Open In Colab\"/></a>"
      ],
      "metadata": {
        "id": "JxyLrY2QFQRn"
      }
    },
    {
      "cell_type": "markdown",
      "source": [
        "#  Memory Management"
      ],
      "metadata": {
        "id": "vhsA0Mq-kqQ4"
      }
    },
    {
      "cell_type": "markdown",
      "source": [
        "## Exercise 1.1 Dynamic array manipulation\n",
        "\n",
        "Write a C program that dynamically allocates memory for an array of integers. The program should take the size of the array (`n`) as input from the user. It should then take `n` integer values as input and store them in the array. After that, the program should double the value of each element in the array. Finally, it should print the modified array and free the allocated memory.\n",
        "\n",
        "**Input:**\n",
        "\n",
        "```\n",
        "Enter the size of the array: 5\n",
        "Enter 5 integers:\n",
        "10 20 30 40 50\n",
        "```\n",
        "\n",
        "\n",
        "**Expected Output:**\n",
        "\n",
        "```\n",
        "Modified array:\n",
        "20 40 60 80 100\n",
        "```\n",
        "\n"
      ],
      "metadata": {
        "id": "40nf1B1Nojyy"
      }
    },
    {
      "cell_type": "markdown",
      "source": [
        "### Solution"
      ],
      "metadata": {
        "id": "TH52JZyDEg6m"
      }
    },
    {
      "cell_type": "code",
      "source": [
        "%%writefile memory-allocation.c\n",
        "\n",
        "// Write your code here\n",
        "\n"
      ],
      "metadata": {
        "colab": {
          "base_uri": "https://localhost:8080/"
        },
        "id": "e6BpsC4uqAHr",
        "outputId": "6964288f-9f2e-483c-f84c-a044675b9a2e"
      },
      "execution_count": 1,
      "outputs": [
        {
          "output_type": "stream",
          "name": "stdout",
          "text": [
            "Writing memory-allocation.c\n"
          ]
        }
      ]
    },
    {
      "cell_type": "code",
      "source": [
        "%%script bash\n",
        "gcc memory-allocation.c -o memory-allocation\n",
        "./memory-allocation"
      ],
      "metadata": {
        "id": "WbDVfAIIqQMA"
      },
      "execution_count": null,
      "outputs": []
    },
    {
      "cell_type": "markdown",
      "source": [
        "## Exercise 1.2 Memory reallocation\n",
        "\n",
        "Write a C program that dynamically allocates memory for an array of `3` integers, initializes it with values `{1, 2, 3}`, then uses `realloc()` to expand the array to accommodate `6` integers. It fills the additional positions with `{4, 5, 6}`, prints the array, and finally frees the allocated memory.\n",
        "\n",
        "<br>\n",
        "\n",
        "**Input:**\n",
        "\n",
        "The program does not take any user input; it initializes the values within the code.  \n",
        "\n",
        "**Expected Output:**\n",
        "\n",
        "```\n",
        "Array: 1 2 3\n",
        "After realloc: 1 2 3 4 5 6\n",
        "\n",
        "```\n",
        "\n",
        "\n"
      ],
      "metadata": {
        "id": "lP9ZsaIUldQL"
      }
    },
    {
      "cell_type": "markdown",
      "source": [
        "### Solution"
      ],
      "metadata": {
        "id": "x5yIgzUtE6Rk"
      }
    },
    {
      "cell_type": "code",
      "execution_count": 2,
      "metadata": {
        "colab": {
          "base_uri": "https://localhost:8080/"
        },
        "id": "zxDIj2Liklnz",
        "outputId": "2ef80ddc-1fbe-499d-ecd7-709616ec6cb1"
      },
      "outputs": [
        {
          "output_type": "stream",
          "name": "stdout",
          "text": [
            "Writing memory-reallocation.c\n"
          ]
        }
      ],
      "source": [
        "%%writefile memory-reallocation.c\n",
        "\n",
        "// Write your code here\n",
        "\n"
      ]
    },
    {
      "cell_type": "code",
      "source": [
        "%%script bash\n",
        "gcc memory-reallocation.c -o memory-reallocation\n",
        "./memory-reallocation"
      ],
      "metadata": {
        "id": "lDPa3sUtmZw-"
      },
      "execution_count": null,
      "outputs": []
    }
  ]
}