{
  "nbformat": 4,
  "nbformat_minor": 0,
  "metadata": {
    "colab": {
      "provenance": []
    },
    "kernelspec": {
      "name": "python3",
      "display_name": "Python 3"
    },
    "language_info": {
      "name": "python"
    }
  },
  "cells": [
    {
      "cell_type": "markdown",
      "source": [
        "<a href=\"https://colab.research.google.com/github/ai4ci-kpi/Refresh-in-C/blob/main/exercises/Exercises_File_Access_and_Pipes.ipynb\" target=\"_parent\"><img src=\"https://colab.research.google.com/assets/colab-badge.svg\" alt=\"Open In Colab\"/></a>"
      ],
      "metadata": {
        "id": "JxyLrY2QFQRn"
      }
    },
    {
      "cell_type": "markdown",
      "source": [
        "#  File Access and Pipes"
      ],
      "metadata": {
        "id": "vhsA0Mq-kqQ4"
      }
    },
    {
      "cell_type": "markdown",
      "source": [
        "## Exercise 1.1 File creation and text input\n",
        "\n",
        "Write a C program that creates a file named `test.txt` and opens it in write mode. The program should handle errors when opening the file, displaying an error message and terminating execution if the file cannot be opened. The program should then prompt the user to enter a sentence and store it in a character array. The entered sentence should be written to the file using the `fprintf()` function. After writing to the file, the program should close the file. Once the file has been successfully written to, the program should display a confirmation message that `test.txt` has been created successfully.\n",
        "\n",
        "**Input:**\n",
        "\n",
        "A single-line sentence entered by the user.\n",
        "\n",
        "\n",
        "**Expected Output:**\n",
        "\n",
        "```\n",
        "Enter a sentence to write to the file: Hello, world!\n",
        "The file test.txt has been successfully created!\n",
        "```\n",
        "\n"
      ],
      "metadata": {
        "id": "40nf1B1Nojyy"
      }
    },
    {
      "cell_type": "markdown",
      "source": [
        "### Solution"
      ],
      "metadata": {
        "id": "TH52JZyDEg6m"
      }
    },
    {
      "cell_type": "code",
      "source": [
        "%%writefile file_creation_input.c\n",
        "\n",
        "// Write your code here\n",
        "\n"
      ],
      "metadata": {
        "colab": {
          "base_uri": "https://localhost:8080/"
        },
        "id": "e6BpsC4uqAHr",
        "outputId": "40eeb166-763d-4088-cc11-76795f3c2c06"
      },
      "execution_count": 1,
      "outputs": [
        {
          "output_type": "stream",
          "name": "stdout",
          "text": [
            "Writing file_creation_input.c\n"
          ]
        }
      ]
    },
    {
      "cell_type": "code",
      "source": [
        "%%script bash\n",
        "gcc file_creation_input.c -o file_creation_input\n",
        "./file_creation_input"
      ],
      "metadata": {
        "id": "WbDVfAIIqQMA"
      },
      "execution_count": null,
      "outputs": []
    },
    {
      "cell_type": "markdown",
      "source": [
        "## Exercise 1.2 Count the number of words and characters in the file\n"
      ],
      "metadata": {
        "id": "lP9ZsaIUldQL"
      }
    },
    {
      "cell_type": "code",
      "source": [
        "!wget https://raw.githubusercontent.com/ai4ci-kpi/Refresh-in-C/refs/heads/main/exercises/file.txt"
      ],
      "metadata": {
        "colab": {
          "base_uri": "https://localhost:8080/"
        },
        "id": "RdHxOROExOfJ",
        "outputId": "f3909a01-2b7d-4a0f-ad9e-5361237574b5"
      },
      "execution_count": 2,
      "outputs": [
        {
          "output_type": "stream",
          "name": "stdout",
          "text": [
            "--2025-02-08 18:17:19--  https://raw.githubusercontent.com/ai4ci-kpi/Refresh-in-C/refs/heads/main/exercises/file.txt\n",
            "Resolving raw.githubusercontent.com (raw.githubusercontent.com)... 185.199.108.133, 185.199.109.133, 185.199.110.133, ...\n",
            "Connecting to raw.githubusercontent.com (raw.githubusercontent.com)|185.199.108.133|:443... connected.\n",
            "HTTP request sent, awaiting response... 200 OK\n",
            "Length: 47 [text/plain]\n",
            "Saving to: ‘file.txt’\n",
            "\n",
            "file.txt            100%[===================>]      47  --.-KB/s    in 0s      \n",
            "\n",
            "2025-02-08 18:17:19 (2.03 MB/s) - ‘file.txt’ saved [47/47]\n",
            "\n"
          ]
        }
      ]
    },
    {
      "cell_type": "markdown",
      "source": [
        "Write a C program to determine the number of words and characters in the file `file.txt`. Open the file in read mode and process its contents character by character. Maintain a counter for characters and another for words, increasing the word count whenever a space or newline follows a non-space character. After processing the entire file, display the total word and character counts.\n",
        "\n",
        "<br>\n",
        "\n",
        "**Input:**\n",
        "\n",
        "`Enter the name of the file to open: file.txt `\n",
        "\n",
        "**Expected Output:**\n",
        "\n",
        "```\n",
        "The contents of the file.txt are:\n",
        "line of text 1\n",
        "line  of text 2\n",
        "line   of text 3\n",
        "file.txt contains 12 words and 47 characters.\n",
        "\n",
        "```"
      ],
      "metadata": {
        "id": "ResyplIE1ATd"
      }
    },
    {
      "cell_type": "markdown",
      "source": [
        "### Solution"
      ],
      "metadata": {
        "id": "x5yIgzUtE6Rk"
      }
    },
    {
      "cell_type": "code",
      "execution_count": 3,
      "metadata": {
        "colab": {
          "base_uri": "https://localhost:8080/"
        },
        "id": "zxDIj2Liklnz",
        "outputId": "90d7f85f-5c0e-4da1-be10-03df5ac454a0"
      },
      "outputs": [
        {
          "output_type": "stream",
          "name": "stdout",
          "text": [
            "Writing read-file.c\n"
          ]
        }
      ],
      "source": [
        "%%writefile read-file.c\n",
        "\n",
        "// Write your code here\n",
        "\n"
      ]
    },
    {
      "cell_type": "code",
      "source": [
        "%%script bash\n",
        "gcc read-file.c -o read-file\n",
        "./read-file"
      ],
      "metadata": {
        "id": "lDPa3sUtmZw-"
      },
      "execution_count": null,
      "outputs": []
    },
    {
      "cell_type": "markdown",
      "source": [
        "# Exercise 1.3 Replace a particular line in a file with new text\n",
        "\n",
        "Write a C program to modify a specific line in the file `file.txt` by replacing it with new text.\n",
        "\n",
        "<br>\n",
        "\n",
        "**Input:**\n",
        "```\n",
        "Enter the name of the file to open: file.txt\n",
        "Enter the content for the new line: new text\n",
        "Enter the line number you wish to replace: 2\n",
        "```\n",
        "\n",
        "**Expected Output:**\n",
        "\n",
        "`The replacement was successful!`\n",
        "\n"
      ],
      "metadata": {
        "id": "5mP4ZNhP5N5g"
      }
    },
    {
      "cell_type": "markdown",
      "source": [
        "### Solution"
      ],
      "metadata": {
        "id": "3yeRIxCA5s4K"
      }
    },
    {
      "cell_type": "code",
      "source": [
        "%%writefile replacemet.c\n",
        "\n",
        "// Write your code here\n",
        "\n"
      ],
      "metadata": {
        "colab": {
          "base_uri": "https://localhost:8080/"
        },
        "id": "X0o4cDz75ccy",
        "outputId": "0aaed414-1c4f-4d60-aa22-7c828ad50f80"
      },
      "execution_count": 5,
      "outputs": [
        {
          "output_type": "stream",
          "name": "stdout",
          "text": [
            "Overwriting replacemet.c\n"
          ]
        }
      ]
    },
    {
      "cell_type": "code",
      "source": [
        "%%script bash\n",
        "gcc replacemet.c -o replacemet\n",
        "./replacemet"
      ],
      "metadata": {
        "id": "ktvE2WDM8v2F"
      },
      "execution_count": null,
      "outputs": []
    },
    {
      "cell_type": "markdown",
      "source": [
        "# Exercise 1.4 Pipe communication with multiple messages\n",
        "\n",
        "\n",
        "Write a C program that creates a pipe and then forks a child process. The parent process sends multiple messages, such as \"`Message 1`\", \"`Message 2`\", and \"`Message 3`\", to the pipe. The child process reads all the messages from the pipe and prints them.\n",
        "\n",
        "\n",
        "<br>\n",
        "\n",
        "**Input:**\n",
        "\n",
        "No user input is required. The parent process sends predefined messages to the child process.\n",
        "\n",
        "**Expected Output:**\n",
        "\n",
        "```\n",
        "Child received: Message 1\n",
        "Child received: Message 2\n",
        "Child received: Message 3\n",
        "```"
      ],
      "metadata": {
        "id": "oapaeOxg-EhX"
      }
    },
    {
      "cell_type": "markdown",
      "source": [
        "### Solution"
      ],
      "metadata": {
        "id": "qfG1b68kBT0Z"
      }
    },
    {
      "cell_type": "code",
      "source": [
        "%%writefile pipe.c\n",
        "\n",
        "// Write your code here\n",
        "\n"
      ],
      "metadata": {
        "colab": {
          "base_uri": "https://localhost:8080/"
        },
        "id": "SqZqZlOy-MUI",
        "outputId": "36f36053-e31e-4745-a851-edd7828c8c53"
      },
      "execution_count": 6,
      "outputs": [
        {
          "output_type": "stream",
          "name": "stdout",
          "text": [
            "Writing pipe.c\n"
          ]
        }
      ]
    },
    {
      "cell_type": "code",
      "source": [
        "%%script bash\n",
        "gcc pipe.c -o pipe\n",
        "./pipe"
      ],
      "metadata": {
        "id": "_4_Tyl2gAenL"
      },
      "execution_count": null,
      "outputs": []
    }
  ]
}