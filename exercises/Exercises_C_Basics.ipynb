{
  "nbformat": 4,
  "nbformat_minor": 0,
  "metadata": {
    "colab": {
      "provenance": []
    },
    "kernelspec": {
      "name": "python3",
      "display_name": "Python 3"
    },
    "language_info": {
      "name": "python"
    }
  },
  "cells": [
    {
      "cell_type": "markdown",
      "source": [
        "<a href=\"https://colab.research.google.com/github/ai4ci-kpi/Refresh-in-C/blob/main/exercises/Exercises_C_Basics.ipynb\" target=\"_parent\"><img src=\"https://colab.research.google.com/assets/colab-badge.svg\" alt=\"Open In Colab\"/></a>"
      ],
      "metadata": {
        "id": "JxyLrY2QFQRn"
      }
    },
    {
      "cell_type": "markdown",
      "source": [
        "# C Basics"
      ],
      "metadata": {
        "id": "vhsA0Mq-kqQ4"
      }
    },
    {
      "cell_type": "markdown",
      "source": [
        "## Exercise 1.1 Determine the maximum value and its corresponding position from the given inputs\n",
        "\n",
        "Write a C program that takes multiple integers (`5`) as input from the user, identifies the maximum value among them, and determines its position.\n",
        "\n",
        "**Input:**\n",
        "\n",
        "```\n",
        "2\n",
        "18\n",
        "0\n",
        "105\n",
        "-1\n",
        "```\n",
        "\n",
        "\n",
        "**Expected Output:**\n",
        "\n",
        "\n",
        "\n",
        "```\n",
        "Maximum value: 105\n",
        "Position: 4\n",
        "```\n",
        "\n"
      ],
      "metadata": {
        "id": "40nf1B1Nojyy"
      }
    },
    {
      "cell_type": "markdown",
      "source": [
        "### Solution"
      ],
      "metadata": {
        "id": "TH52JZyDEg6m"
      }
    },
    {
      "cell_type": "code",
      "source": [
        "%%writefile max.c\n",
        "\n",
        "// Write your code here\n",
        "\n"
      ],
      "metadata": {
        "colab": {
          "base_uri": "https://localhost:8080/"
        },
        "id": "e6BpsC4uqAHr",
        "outputId": "0e2af64c-042a-4c0f-d108-c5ad6bb42735"
      },
      "execution_count": 5,
      "outputs": [
        {
          "output_type": "stream",
          "name": "stdout",
          "text": [
            "Writing max.c\n"
          ]
        }
      ]
    },
    {
      "cell_type": "code",
      "source": [
        "%%script bash\n",
        "gcc max.c -o max\n",
        "./max"
      ],
      "metadata": {
        "id": "WbDVfAIIqQMA"
      },
      "execution_count": null,
      "outputs": []
    },
    {
      "cell_type": "markdown",
      "source": [
        "## Exercise 1.2 Display each word on a new line\n",
        "\n",
        "Write a C program that takes a line of text as input from the user and displays each word on a new line.\n",
        "\n",
        "<br>\n",
        "\n",
        "**Input:**\n",
        "\n",
        "`Coding in C is fun and educational`  \n",
        "\n",
        "**Expected Output:**\n",
        "\n",
        "```\n",
        "Coding  \n",
        "in  \n",
        "C  \n",
        "is  \n",
        "fun  \n",
        "and  \n",
        "educational\n",
        "```\n",
        "\n",
        "\n"
      ],
      "metadata": {
        "id": "lP9ZsaIUldQL"
      }
    },
    {
      "cell_type": "markdown",
      "source": [
        "### Solution"
      ],
      "metadata": {
        "id": "x5yIgzUtE6Rk"
      }
    },
    {
      "cell_type": "code",
      "execution_count": 4,
      "metadata": {
        "colab": {
          "base_uri": "https://localhost:8080/"
        },
        "id": "zxDIj2Liklnz",
        "outputId": "bd84d1f9-94d2-488e-f242-1ad5d0ef0845"
      },
      "outputs": [
        {
          "output_type": "stream",
          "name": "stdout",
          "text": [
            "Overwriting new-line.c\n"
          ]
        }
      ],
      "source": [
        "%%writefile new-line.c\n",
        "\n",
        "// Write your code here\n",
        "\n"
      ]
    },
    {
      "cell_type": "code",
      "source": [
        "%%script bash\n",
        "gcc new-line.c -o new-line\n",
        "./new-line"
      ],
      "metadata": {
        "id": "lDPa3sUtmZw-"
      },
      "execution_count": null,
      "outputs": []
    }
  ]
}