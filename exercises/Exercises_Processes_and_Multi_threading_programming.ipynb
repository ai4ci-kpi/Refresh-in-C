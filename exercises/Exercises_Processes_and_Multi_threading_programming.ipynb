{
  "nbformat": 4,
  "nbformat_minor": 0,
  "metadata": {
    "colab": {
      "provenance": []
    },
    "kernelspec": {
      "name": "python3",
      "display_name": "Python 3"
    },
    "language_info": {
      "name": "python"
    }
  },
  "cells": [
    {
      "cell_type": "markdown",
      "source": [
        "<a href=\"https://colab.research.google.com/github/ai4ci-kpi/Refresh-in-C/blob/main/exercises/Exercises_Processes_and_Multi-threading_programming.ipynb\" target=\"_parent\"><img src=\"https://colab.research.google.com/assets/colab-badge.svg\" alt=\"Open In Colab\"/></a>"
      ],
      "metadata": {
        "id": "JxyLrY2QFQRn"
      }
    },
    {
      "cell_type": "code",
      "source": [
        "!!git clone --depth 1 --filter=blob:none --sparse https://github.com/ai4ci-kpi/Refresh-in-C.git"
      ],
      "metadata": {
        "colab": {
          "base_uri": "https://localhost:8080/"
        },
        "id": "F_UNkNxDWsfT",
        "outputId": "d13d2ff6-e5d4-4f75-c567-f6eee6f7b2ef"
      },
      "execution_count": 1,
      "outputs": [
        {
          "output_type": "execute_result",
          "data": {
            "text/plain": [
              "[\"Cloning into 'Refresh-in-C'...\",\n",
              " 'remote: Enumerating objects: 10, done.\\x1b[K',\n",
              " 'remote: Counting objects:  10% (1/10)\\x1b[K',\n",
              " 'remote: Counting objects:  20% (2/10)\\x1b[K',\n",
              " 'remote: Counting objects:  30% (3/10)\\x1b[K',\n",
              " 'remote: Counting objects:  40% (4/10)\\x1b[K',\n",
              " 'remote: Counting objects:  50% (5/10)\\x1b[K',\n",
              " 'remote: Counting objects:  60% (6/10)\\x1b[K',\n",
              " 'remote: Counting objects:  70% (7/10)\\x1b[K',\n",
              " 'remote: Counting objects:  80% (8/10)\\x1b[K',\n",
              " 'remote: Counting objects:  90% (9/10)\\x1b[K',\n",
              " 'remote: Counting objects: 100% (10/10)\\x1b[K',\n",
              " 'remote: Counting objects: 100% (10/10), done.\\x1b[K',\n",
              " 'remote: Compressing objects:  10% (1/10)\\x1b[K',\n",
              " 'remote: Compressing objects:  20% (2/10)\\x1b[K',\n",
              " 'remote: Compressing objects:  30% (3/10)\\x1b[K',\n",
              " 'remote: Compressing objects:  40% (4/10)\\x1b[K',\n",
              " 'remote: Compressing objects:  50% (5/10)\\x1b[K',\n",
              " 'remote: Compressing objects:  60% (6/10)\\x1b[K',\n",
              " 'remote: Compressing objects:  70% (7/10)\\x1b[K',\n",
              " 'remote: Compressing objects:  80% (8/10)\\x1b[K',\n",
              " 'remote: Compressing objects:  90% (9/10)\\x1b[K',\n",
              " 'remote: Compressing objects: 100% (10/10)\\x1b[K',\n",
              " 'remote: Compressing objects: 100% (10/10), done.\\x1b[K',\n",
              " 'remote: Total 10 (delta 0), reused 4 (delta 0), pack-reused 0 (from 0)\\x1b[K',\n",
              " 'Receiving objects:  10% (1/10)',\n",
              " 'Receiving objects:  20% (2/10)',\n",
              " 'Receiving objects:  30% (3/10)',\n",
              " 'Receiving objects:  40% (4/10)',\n",
              " 'Receiving objects:  50% (5/10)',\n",
              " 'Receiving objects:  60% (6/10)',\n",
              " 'Receiving objects:  70% (7/10)',\n",
              " 'Receiving objects:  80% (8/10)',\n",
              " 'Receiving objects:  90% (9/10)',\n",
              " 'Receiving objects: 100% (10/10)',\n",
              " 'Receiving objects: 100% (10/10), done.',\n",
              " 'remote: Enumerating objects: 6, done.\\x1b[K',\n",
              " 'remote: Counting objects:  16% (1/6)\\x1b[K',\n",
              " 'remote: Counting objects:  33% (2/6)\\x1b[K',\n",
              " 'remote: Counting objects:  50% (3/6)\\x1b[K',\n",
              " 'remote: Counting objects:  66% (4/6)\\x1b[K',\n",
              " 'remote: Counting objects:  83% (5/6)\\x1b[K',\n",
              " 'remote: Counting objects: 100% (6/6)\\x1b[K',\n",
              " 'remote: Counting objects: 100% (6/6), done.\\x1b[K',\n",
              " 'remote: Compressing objects:  16% (1/6)\\x1b[K',\n",
              " 'remote: Compressing objects:  33% (2/6)\\x1b[K',\n",
              " 'remote: Compressing objects:  50% (3/6)\\x1b[K',\n",
              " 'remote: Compressing objects:  66% (4/6)\\x1b[K',\n",
              " 'remote: Compressing objects:  83% (5/6)\\x1b[K',\n",
              " 'remote: Compressing objects: 100% (6/6)\\x1b[K',\n",
              " 'remote: Compressing objects: 100% (6/6), done.\\x1b[K',\n",
              " 'Receiving objects:  16% (1/6)',\n",
              " 'Receiving objects:  33% (2/6)',\n",
              " 'Receiving objects:  50% (3/6)',\n",
              " 'Receiving objects:  66% (4/6)',\n",
              " 'Receiving objects:  83% (5/6)',\n",
              " 'remote: Total 6 (delta 0), reused 2 (delta 0), pack-reused 0 (from 0)\\x1b[K',\n",
              " 'Receiving objects: 100% (6/6)',\n",
              " 'Receiving objects: 100% (6/6), 38.73 KiB | 4.84 MiB/s, done.']"
            ]
          },
          "metadata": {},
          "execution_count": 1
        }
      ]
    },
    {
      "cell_type": "markdown",
      "source": [
        "#  Processes and Multi-threading programming"
      ],
      "metadata": {
        "id": "vhsA0Mq-kqQ4"
      }
    },
    {
      "cell_type": "markdown",
      "source": [
        "## Exercise 1.1 File backup uing child processes\n",
        "\n",
        "Write a C program that that reads the directory `Refresh-in-C` containing multiple files, creates a new subfolder named \"`backup`\" within the same directory, and copies all the files into this newly created subfolder. The program should utilize the `exec()` function with the `cp` command to perform the file copying. Additionally, it must create child processes, each responsible for executing a `cp` command to copy individual files from the original directory to the \"`backup`\" subfolder.\n",
        "\n",
        "\n"
      ],
      "metadata": {
        "id": "40nf1B1Nojyy"
      }
    },
    {
      "cell_type": "markdown",
      "source": [
        "### Solution"
      ],
      "metadata": {
        "id": "TH52JZyDEg6m"
      }
    },
    {
      "cell_type": "code",
      "source": [
        "%%writefile file-backup.c\n",
        "\n",
        "// Write your code here\n",
        "\n"
      ],
      "metadata": {
        "colab": {
          "base_uri": "https://localhost:8080/"
        },
        "id": "e6BpsC4uqAHr",
        "outputId": "cc3c0fe7-e8a1-4fa0-9ce2-57e608724c13"
      },
      "execution_count": 2,
      "outputs": [
        {
          "output_type": "stream",
          "name": "stdout",
          "text": [
            "Writing file-backup.c\n"
          ]
        }
      ]
    },
    {
      "cell_type": "code",
      "source": [
        "%%script bash\n",
        "gcc file-backup.c -o file-backup\n",
        "./file-backup"
      ],
      "metadata": {
        "id": "WbDVfAIIqQMA"
      },
      "execution_count": null,
      "outputs": []
    },
    {
      "cell_type": "markdown",
      "source": [
        "## Exercise 1.2 Parallel array summation using multithreading\n",
        "\n",
        "Write a C program that calculates the sum of a large array using multiple threads. The program should divide the array into equal parts, assign each part to a separate thread, and sum the elements in parallel. After all threads complete execution, the main thread should combine the partial sums to get the final total.\n",
        "\n",
        "\n"
      ],
      "metadata": {
        "id": "lP9ZsaIUldQL"
      }
    },
    {
      "cell_type": "markdown",
      "source": [
        "### Solution"
      ],
      "metadata": {
        "id": "x5yIgzUtE6Rk"
      }
    },
    {
      "cell_type": "code",
      "execution_count": 3,
      "metadata": {
        "colab": {
          "base_uri": "https://localhost:8080/"
        },
        "id": "zxDIj2Liklnz",
        "outputId": "44f674ad-d5e6-41a4-b2bf-56287d31a4f9"
      },
      "outputs": [
        {
          "output_type": "stream",
          "name": "stdout",
          "text": [
            "Writing multithread.c\n"
          ]
        }
      ],
      "source": [
        "%%writefile multithread.c\n",
        "\n",
        "// Write your code here\n",
        "\n"
      ]
    },
    {
      "cell_type": "code",
      "source": [
        "%%script bash\n",
        "gcc multithread.c -o multithread\n",
        "./multithread"
      ],
      "metadata": {
        "id": "lDPa3sUtmZw-"
      },
      "execution_count": null,
      "outputs": []
    }
  ]
}